{
 "cells": [
  {
   "cell_type": "code",
   "execution_count": 2,
   "metadata": {},
   "outputs": [],
   "source": [
    "import seaborn as sns\n",
    "import pandas as pd\n",
    "import numpy as np\n",
    "import matplotlib.pyplot as plt"
   ]
  },
  {
   "cell_type": "code",
   "execution_count": 12,
   "metadata": {},
   "outputs": [
    {
     "name": "stdout",
     "output_type": "stream",
     "text": [
      "  ngram  use_idf  mean_test_score\n",
      "0   uni     True          93.6238\n",
      "1   uni    False          94.0700\n",
      "2    bi     True          95.4706\n",
      "3    bi    False          94.9934\n",
      "4   tri     True          96.3319\n",
      "5   tri    False          95.5807\n"
     ]
    }
   ],
   "source": [
    "# get from FakeNewDectionNLP result\n",
    "r1_performance = pd.DataFrame(\n",
    "    [{'ngram': 'uni', 'use_idf': True, 'mean_test_score':93.6238},\n",
    "     {'ngram': 'uni', 'use_idf': False, 'mean_test_score':94.0700},\n",
    "     {'ngram': 'bi', 'use_idf': True, 'mean_test_score':95.4706},\n",
    "     {'ngram': 'bi', 'use_idf': False, 'mean_test_score':94.9934},\n",
    "     {'ngram': 'tri', 'use_idf': True, 'mean_test_score':96.3319},\n",
    "     {'ngram': 'tri', 'use_idf': False, 'mean_test_score':95.5807},\n",
    "    ]\n",
    ")\n",
    "print(r1_performance)"
   ]
  },
  {
   "cell_type": "code",
   "execution_count": 13,
   "metadata": {},
   "outputs": [
    {
     "data": {
      "image/png": "[encoded data removed]",
      "text/plain": [
       "<Figure size 432x288 with 1 Axes>"
      ]
     },
     "metadata": {
      "needs_background": "light"
     },
     "output_type": "display_data"
    }
   ],
   "source": [
    "r1_figure = sns.barplot(x='ngram',y='mean_test_score',hue='use_idf', data= r1_performance)"
   ]
  },
  {
   "cell_type": "code",
   "execution_count": 15,
   "metadata": {},
   "outputs": [
    {
     "name": "stdout",
     "output_type": "stream",
     "text": [
      "      feature  mean_test_score\n",
      "0      TF-IDF            96.33\n",
      "1  linguistic            88.38\n"
     ]
    },
    {
     "data": {
      "image/png": "[encoded data removed]",
      "text/plain": [
       "<Figure size 432x288 with 1 Axes>"
      ]
     },
     "metadata": {
      "needs_background": "light"
     },
     "output_type": "display_data"
    }
   ],
   "source": [
    "# get from FakeNewDectionNLP result\n",
    "r2r1_performance = pd.DataFrame(\n",
    "    [{'feature': 'TF-IDF', 'mean_test_score':96.33},\n",
    "     {'feature': 'linguistic', 'mean_test_score':88.38},\n",
    "    ]\n",
    ")\n",
    "print(r2r1_performance)\n",
    "r2r1_figure = sns.barplot(x='feature',y='mean_test_score', data= r2r1_performance)"
   ]
  },
  {
   "cell_type": "code",
   "execution_count": 6,
   "metadata": {},
   "outputs": [],
   "source": [
    "algo_model_performance = pd.DataFrame(\n",
    "    [{'algo': 'Naive Bayes','feature':'TF-IDF', 'mean_test_score':94.19},\n",
    "     {'algo': 'LR', 'feature':'TF-IDF','mean_test_score':99.22},\n",
    "     {'algo': 'Decision Tree', 'feature':'TF-IDF','mean_test_score':99.75},\n",
    "     {'algo': 'Random Forest','feature':'TF-IDF', 'mean_test_score':96.43},\n",
    "     {'algo': 'Linear SVC','feature':'TF-IDF', 'mean_test_score':99.48},\n",
    "     {'algo': 'SGD', 'feature':'TF-IDF','mean_test_score':99.07},\n",
    "     {'algo': 'Naive Bayes','feature':'Linguistic', 'mean_test_score':88.46},\n",
    "     {'algo': 'LR', 'feature':'Linguistic','mean_test_score':92.65},\n",
    "     {'algo': 'Decision Tree', 'feature':'Linguistic','mean_test_score':95.09},\n",
    "     {'algo': 'Random Forest','feature':'Linguistic', 'mean_test_score':96.76},\n",
    "     {'algo': 'Linear SVC','feature':'Linguistic', 'mean_test_score':93.79},\n",
    "     {'algo': 'SGD', 'feature':'Linguistic','mean_test_score':92.60},\n",
    "    ]\n",
    ")"
   ]
  },
  {
   "cell_type": "code",
   "execution_count": 7,
   "metadata": {},
   "outputs": [
    {
     "name": "stdout",
     "output_type": "stream",
     "text": [
      "             algo     feature  mean_test_score\n",
      "0     Naive Bayes      TF-IDF            94.19\n",
      "1              LR      TF-IDF            99.22\n",
      "2   Decision Tree      TF-IDF            99.75\n",
      "3   Random Forest      TF-IDF            96.43\n",
      "4      Linear SVC      TF-IDF            99.48\n",
      "5             SGD      TF-IDF            99.07\n",
      "6     Naive Bayes  Linguistic            88.46\n",
      "7              LR  Linguistic            92.65\n",
      "8   Decision Tree  Linguistic            95.09\n",
      "9   Random Forest  Linguistic            96.76\n",
      "10     Linear SVC  Linguistic            93.79\n",
      "11            SGD  Linguistic            92.60\n"
     ]
    },
    {
     "data": {
      "image/png": "[encoded data removed]",
      "text/plain": [
       "<Figure size 432x288 with 1 Axes>"
      ]
     },
     "metadata": {
      "needs_background": "light"
     },
     "output_type": "display_data"
    }
   ],
   "source": [
    "print(algo_model_performance)\n",
    "algo_model_figure = sns.barplot(y='algo',x='mean_test_score',hue='feature' ,data= algo_model_performance)"
   ]
  },
  {
   "cell_type": "code",
   "execution_count": 3,
   "metadata": {},
   "outputs": [],
   "source": [
    "algo_model_time = pd.DataFrame(\n",
    "    [{'algo': 'Naive Bayes','feature':'TF-IDF', 'mean_time':17.0149 + 4.14188},\n",
    "     {'algo': 'LR', 'feature':'TF-IDF','mean_time':173.524569 + 33.169159},\n",
    "     {'algo': 'Decision Tree', 'feature':'TF-IDF','mean_time':164.351037 + 27.175078},\n",
    "     {'algo': 'Random Forest','feature':'TF-IDF', 'mean_time':101.037195+31.557189},\n",
    "     {'algo': 'Linear SVC','feature':'TF-IDF', 'mean_time':176.660813+18.206113},\n",
    "     {'algo': 'SGD', 'feature':'TF-IDF','mean_time':134.747392+19.67},\n",
    "     {'algo': 'Naive Bayes','feature':'Linguistic', 'mean_time':0.046653+0.002194},\n",
    "     {'algo': 'LR', 'feature':'Linguistic','mean_time':0.501153+0.012459},\n",
    "     {'algo': 'Decision Tree', 'feature':'Linguistic','mean_time':0.4065+0.0055},\n",
    "     {'algo': 'Random Forest','feature':'Linguistic', 'mean_time':5.5676+0.1141},\n",
    "     {'algo': 'Linear SVC','feature':'Linguistic', 'mean_time':1.639979+0.012475},\n",
    "     {'algo': 'SGD', 'feature':'Linguistic','mean_time':0.069545+0.009357},\n",
    "    ]\n",
    ")"
   ]
  },
  {
   "cell_type": "code",
   "execution_count": 5,
   "metadata": {},
   "outputs": [
    {
     "name": "stdout",
     "output_type": "stream",
     "text": [
      "             algo     feature   mean_time\n",
      "0     Naive Bayes      TF-IDF   21.156780\n",
      "1              LR      TF-IDF  206.693728\n",
      "2   Decision Tree      TF-IDF  191.526115\n",
      "3   Random Forest      TF-IDF  132.594384\n",
      "4      Linear SVC      TF-IDF  194.866926\n",
      "5             SGD      TF-IDF  154.417392\n",
      "6     Naive Bayes  Linguistic    0.048847\n",
      "7              LR  Linguistic    0.513612\n",
      "8   Decision Tree  Linguistic    0.412000\n",
      "9   Random Forest  Linguistic    5.681700\n",
      "10     Linear SVC  Linguistic    1.652454\n",
      "11            SGD  Linguistic    0.078902\n"
     ]
    },
    {
     "data": {
      "image/png": "[encoded data removed]",
      "text/plain": [
       "<Figure size 432x288 with 1 Axes>"
      ]
     },
     "metadata": {
      "needs_background": "light"
     },
     "output_type": "display_data"
    }
   ],
   "source": [
    "print(algo_model_time)\n",
    "algo_model_time_figure = sns.barplot(y='algo',x='mean_time',data= algo_model_time)"
   ]
  },
  {
   "cell_type": "code",
   "execution_count": 8,
   "metadata": {},
   "outputs": [],
   "source": [
    "r5r1_performance =  pd.DataFrame(\n",
    "    [{'feature': 'title', 'mean_test_score':95.32},\n",
    "     {'feature': 'text', 'mean_test_score':94.19},\n",
    "    ]\n",
    ")"
   ]
  },
  {
   "cell_type": "code",
   "execution_count": 9,
   "metadata": {},
   "outputs": [
    {
     "name": "stdout",
     "output_type": "stream",
     "text": [
      "  feature  mean_test_score\n",
      "0   title            95.32\n",
      "1    text            94.19\n"
     ]
    },
    {
     "data": {
      "image/png": "[encoded data removed]",
      "text/plain": [
       "<Figure size 432x288 with 1 Axes>"
      ]
     },
     "metadata": {
      "needs_background": "light"
     },
     "output_type": "display_data"
    }
   ],
   "source": [
    "print(r5r1_performance)\n",
    "r5r1_figure = sns.barplot(x='feature',y='mean_test_score', data= r5r1_performance)"
   ]
  },
  {
   "cell_type": "code",
   "execution_count": 11,
   "metadata": {},
   "outputs": [
    {
     "data": {
      "image/png": "[encoded data removed]",
      "text/plain": [
       "<Figure size 432x288 with 1 Axes>"
      ]
     },
     "metadata": {
      "needs_background": "light"
     },
     "output_type": "display_data"
    }
   ],
   "source": [
    "test_performance =  pd.DataFrame(\n",
    "    [{'k': '10', 'mean_test_score':69},\n",
    "     {'k': '15', 'mean_test_score':70},\n",
    "     {'k': '20', 'mean_test_score':88},\n",
    "    ]\n",
    ")\n",
    "test_figure = sns.barplot(x='k',y='mean_test_score', data= test_performance)"
   ]
  }
 ],
 "metadata": {
  "kernelspec": {
   "display_name": "Python 3",
   "language": "python",
   "name": "python3"
  },
  "language_info": {
   "codemirror_mode": {
    "name": "ipython",
    "version": 3
   },
   "file_extension": ".py",
   "mimetype": "text/x-python",
   "name": "python",
   "nbconvert_exporter": "python",
   "pygments_lexer": "ipython3",
   "version": "3.8.2"
  }
 },
 "nbformat": 4,
 "nbformat_minor": 4
}
