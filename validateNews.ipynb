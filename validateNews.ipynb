{
 "cells": [
  {
   "cell_type": "code",
   "execution_count": 4,
   "metadata": {},
   "outputs": [
    {
     "name": "stderr",
     "output_type": "stream",
     "text": [
      "<ipython-input-4-c5ef4651865b>:28: FutureWarning: The default value of regex will change from True to False in a future version.\n",
      "  return col.apply(lambda x: nltk.word_tokenize(x)) \\\n"
     ]
    },
    {
     "name": "stdout",
     "output_type": "stream",
     "text": [
      "              precision    recall  f1-score   support\n",
      "\n",
      "        real       0.99      1.00      0.99      4296\n",
      "        fake       1.00      0.99      0.99      4558\n",
      "\n",
      "    accuracy                           0.99      8854\n",
      "   macro avg       0.99      0.99      0.99      8854\n",
      "weighted avg       0.99      0.99      0.99      8854\n",
      "\n",
      "[[4276   20]\n",
      " [  27 4531]]\n"
     ]
    },
    {
     "name": "stderr",
     "output_type": "stream",
     "text": [
      "C:\\Users\\share\\AppData\\Roaming\\Python\\Python38\\site-packages\\sklearn\\utils\\validation.py:70: FutureWarning: Pass labels=[0, 1] as keyword args. From version 1.0 (renaming of 0.25) passing these as positional arguments will result in an error\n",
      "  warnings.warn(f\"Pass {args_msg} as keyword args. From version \"\n"
     ]
    },
    {
     "data": {
      "image/png": "[encoded data removed]",
      "text/plain": [
       "<Figure size 432x288 with 2 Axes>"
      ]
     },
     "metadata": {
      "needs_background": "light"
     },
     "output_type": "display_data"
    }
   ],
   "source": [
    "import pandas as pd\n",
    "from sklearn.feature_extraction.text import TfidfVectorizer\n",
    "from sklearn.pipeline import Pipeline\n",
    "from sklearn.model_selection import train_test_split\n",
    "from sklearn import tree, metrics\n",
    "from sklearn.metrics import classification_report\n",
    "import matplotlib.pyplot as plt\n",
    "import seaborn as sns \n",
    "import nltk\n",
    "\n",
    "# load data\n",
    "df_fake_news = pd.read_csv(\"dataset/ISOTNews/Fake.csv\")\n",
    "df_real_news = pd.read_csv(\"dataset/ISOTNews/True.csv\")\n",
    "# add is Fake attribute\n",
    "df_fake_news[\"isFake\"]=1\n",
    "df_real_news[\"isFake\"]=0\n",
    "# combine data\n",
    "df_all_news = pd.concat([df_fake_news,df_real_news])\n",
    "# filter out empty news\n",
    "df_all_news['textWordCount'] =  df_all_news['text'].apply(lambda x: len(nltk.word_tokenize(x)))\n",
    "df_all_news = df_all_news[df_all_news['textWordCount']>0]\n",
    "\n",
    "# clean up text before tfidf vectorization\n",
    "def preprocessing(col):\n",
    "    from nltk.stem.wordnet import WordNetLemmatizer\n",
    "    stopwords = nltk.corpus.stopwords.words('english')\n",
    "    lem = WordNetLemmatizer()\n",
    "    return col.apply(lambda x: nltk.word_tokenize(x)) \\\n",
    "    .apply(lambda x: \" \".join([lem.lemmatize(w.lower()) for w in x if w.lower() not in stopwords])) \\\n",
    "    .str.replace('[^\\w\\s]','')\n",
    "\n",
    "df_all_news['cleanupText'] =  preprocessing(df_all_news['text'])\n",
    "\n",
    "# split dataset into 80% training and 20% testing\n",
    "train_x, test_x, train_y, test_y  = train_test_split(df_all_news['cleanupText'],df_all_news['isFake'], test_size=0.2, random_state = 1)\n",
    "\n",
    "model = Pipeline([\n",
    "    ('vect', TfidfVectorizer(ngram_range=(1,3))),\n",
    "    ('clf', tree.DecisionTreeClassifier(criterion='gini',max_depth=30))\n",
    "])\n",
    "model.fit(train_x, train_y)\n",
    "\n",
    "def getClassificationReport(model, test_x,test_y):\n",
    "    pred = model.predict(test_x)\n",
    "    labels = ['real','fake']\n",
    "    report = classification_report(test_y,pred,target_names=labels)\n",
    "    print(report)\n",
    "    cm = metrics.confusion_matrix(test_y, pred, [0,1])\n",
    "    print(cm)\n",
    "\n",
    "    ax= plt.subplot()\n",
    "    sns.heatmap(cm, annot=True, fmt='g', ax=ax);  #annot=True to annotate cells, ftm='g' to disable scientific notation\n",
    "\n",
    "    # labels, title and ticks\n",
    "    ax.set_xlabel('Predicted labels');ax.set_ylabel('True labels'); \n",
    "    ax.set_title('Confusion Matrix'); \n",
    "    ax.xaxis.set_ticklabels(['real', 'fake']); ax.yaxis.set_ticklabels(['real','fake']);\n",
    "    \n",
    "getClassificationReport(model,test_x, test_y)"
   ]
  },
  {
   "cell_type": "code",
   "execution_count": 20,
   "metadata": {},
   "outputs": [],
   "source": [
    "articles = test_x.iloc[-60:-50]\n",
    "true_labels = test_y.iloc[-60:-50]\n",
    "pred = model.predict(articles)\n",
    "\n"
   ]
  },
  {
   "cell_type": "code",
   "execution_count": 33,
   "metadata": {},
   "outputs": [
    {
     "name": "stdout",
     "output_type": "stream",
     "text": [
      "0\n",
      "Label:Fake\n",
      "Prediction:Fake\n",
      "Classified correctly:True\n",
      "1\n",
      "Label:Real\n",
      "Prediction:Real\n",
      "Classified correctly:True\n",
      "2\n",
      "Label:Fake\n",
      "Prediction:Fake\n",
      "Classified correctly:True\n",
      "3\n",
      "Label:Fake\n",
      "Prediction:Fake\n",
      "Classified correctly:True\n",
      "4\n",
      "Label:Fake\n",
      "Prediction:Fake\n",
      "Classified correctly:True\n",
      "5\n",
      "Label:Real\n",
      "Prediction:Real\n",
      "Classified correctly:True\n",
      "6\n",
      "Label:Real\n",
      "Prediction:Real\n",
      "Classified correctly:True\n",
      "7\n",
      "Label:Real\n",
      "Prediction:Real\n",
      "Classified correctly:True\n",
      "8\n",
      "Label:Fake\n",
      "Prediction:Fake\n",
      "Classified correctly:True\n",
      "9\n",
      "Label:Fake\n",
      "Prediction:Fake\n",
      "Classified correctly:True\n"
     ]
    }
   ],
   "source": [
    "# check classification for 10 articles\n",
    "index = articles.index\n",
    "for i in range(len(articles)):\n",
    "    print(str(i))\n",
    "    #print(articles[index[i]])\n",
    "    label = 'Fake'\n",
    "    if true_labels[index[i]] == 0:\n",
    "        label = 'Real'\n",
    "    prediction = 'Fake'\n",
    "    if pred[i] == 0:\n",
    "        prediction = 'Real'\n",
    "    print('Label:'+label)\n",
    "    print('Prediction:'+ prediction)\n",
    "    matched = False\n",
    "    if prediction == label:\n",
    "        matched = True\n",
    "    print('Classified correctly:'+ str(matched))"
   ]
  },
  {
   "cell_type": "code",
   "execution_count": 57,
   "metadata": {},
   "outputs": [],
   "source": [
    "\n",
    "import textstat as st\n",
    "from spellchecker import SpellChecker\n",
    "import nltk\n",
    "import textblob as tb\n",
    "from sklearn import tree\n",
    "import numpy as np\n",
    "\n",
    "def countAllCapitalWordInText(text):\n",
    "    return np.sum([x.isupper() for x in text.split()])\n",
    "\n",
    "def countSpellingError(text):\n",
    "    spell = SpellChecker()\n",
    "    error = 0\n",
    "    tokens = nltk.word_tokenize(text)\n",
    "    for token in tokens:\n",
    "        if token.lower() not in spell:\n",
    "            error +=1\n",
    "    return error\n",
    "\n",
    "def lexical_diversity(text):\n",
    "    words = nltk.word_tokenize(text)\n",
    "    diversity = len(set(words))/len(words)\n",
    "    return diversity\n",
    "\n",
    "\n",
    "def extractFeatures(title,text):\n",
    "    df = pd.DataFrame([{'title':title,'text':text}])\n",
    "    df['numExclaimsInTitle'] =  df['title'].str.count(\"!\")\n",
    "    df['allCapsInTitle'] = df['title'].apply(countAllCapitalWordInText)\n",
    "    df['titleWordCount'] = df['title'].apply(lambda x: len(nltk.word_tokenize(x)))\n",
    "    df['textWordCount'] = df['text'].apply(lambda x: len(nltk.word_tokenize(x)))\n",
    "    df['textSentenceCount'] = df['text'].apply(lambda x: len(nltk.sent_tokenize(x)))\n",
    "    #df['averageWordCountInSentence'] = df.assign(averageWordCountInSentence = df.apply(lambda x: x['textWordCount']/x.textSentenceCount, axis=1))\n",
    "    df[\"readability\"] = df['text'].apply(st.flesch_reading_ease)\n",
    "    df[\"spellings_error\"] = df['text'].apply(countSpellingError)\n",
    "    df[\"lexicalDiversity\"] = df['text'].apply(lexical_diversity)\n",
    "    df['text_word_tokens'] = df['text'].apply(lambda x: list(nltk.word_tokenize(x)))\n",
    "    df['POS_text'] = df['text_word_tokens'].apply(nltk.pos_tag)\n",
    "    df['NounCount'] = df['POS_text'].apply(lambda x: len([t[0] for t in x if t[1].startswith('NN')]))\n",
    "    df['VerbCount'] = df['POS_text'].apply(lambda x: len([t[0] for t in x if t[1].startswith('VB')]))\n",
    "    df['PronounCount'] = df['POS_text'].apply(lambda x: len([t[0] for t in x if t[1].startswith('PRP')]))\n",
    "    df['AdjectiveCount'] = df['POS_text'].apply(lambda x: len([t[0] for t in x if t[1].startswith('JJ')]))\n",
    "    df['ConjunctionCount'] = df['POS_text'].apply(lambda x: len([t[0] for t in x if t[1].startswith('CC')]))\n",
    "    df['ModalCount'] = df['POS_text'].apply(lambda x: len([t[0] for t in x if t[1].startswith('MD')]))\n",
    "    df['NumericCount'] = df['POS_text'].apply(lambda x: len([t[0] for t in x if t[1].startswith('CD')]))\n",
    "    df['ProperNounCount'] = df['POS_text'].apply(lambda x: len([t[0] for t in x if t[1].startswith('NNP')]))\n",
    "    df['PastTenseCount'] = df['POS_text'].apply(lambda x: len([t[0] for t in x if t[1].startswith('VBD')]))\n",
    "    df['AdverbCount'] = df['POS_text'].apply(lambda x: len([t[0] for t in x if t[1].startswith('RB')]))\n",
    "    df['ComparativeCount'] = df['POS_text'].apply(lambda x: len([t[0] for t in x if t[1] in ['JJR','JJS','RBR','RBS']]))\n",
    "    df['cleanupText'] = preprocessing(df['text'])\n",
    "    df['subjectivity'] = df['cleanupText'].apply(lambda x: tb.TextBlob(x).sentiment.subjectivity)\n",
    "    df['polarity'] = df['cleanupText'].apply(lambda x: tb.TextBlob(x).sentiment.polarity)\n",
    "    return df\n",
    "\n",
    "def validateNews(title,text):\n",
    "    features = extractFeatures(title,text)\n",
    "    prediction = model.predict(features['cleanupText'])\n",
    "    if prediction[0] == 0:\n",
    "        print (\"Real news\")\n",
    "    else:\n",
    "        print(\"Suspect this news is fake news, please check on it\")\n",
    "\n",
    "\n",
    "\n"
   ]
  },
  {
   "cell_type": "code",
   "execution_count": 58,
   "metadata": {
    "scrolled": true
   },
   "outputs": [
    {
     "name": "stdout",
     "output_type": "stream",
     "text": [
      "Suspect this news is fake news, please check on it\n"
     ]
    },
    {
     "name": "stderr",
     "output_type": "stream",
     "text": [
      "<ipython-input-4-c5ef4651865b>:28: FutureWarning: The default value of regex will change from True to False in a future version.\n",
      "  return col.apply(lambda x: nltk.word_tokenize(x)) \\\n"
     ]
    }
   ],
   "source": [
    "title ='How to Blow $700 Million: Al Jazeera America Finally Calls it Quits'\n",
    "text = '21st Century Wire says Al Jazeera America will go down in history as one of the biggest failures in broadcast media history.Ever since the US and its allies began plotting to overthrow Libya and Syria, Al Jazeera has deteriorated from a promising international news network in 2003   into what it has become in 2016   a full-blown agit prop media shop for the US State Department and the Pentagon. In fact, US Military Central Command (CENTCOM) for the Middle East region is located in Qatar s capital of Doha, conveniently located just down the road from Al Jazeera s headquarters. Nice and cozy.Al Jazeera s role in promoting  regime change  and the destablization of Syria is now recorded history, as are its many shameful exhibitions of media fakery.The Qatari royals tried to expand propaganda operations into North America, but no matter how much money they threw at it (and those royals just love throwing money at things to try and get them to work), no one cared about it, much less watched it. I know this will be a massive disappointment for everyone here who has worked tirelessly for our long-term future. The decision that has been made is in no way because AJAM has done anything but a great job,  reads a company email from CEO Al Anstey, obtained by Politico.Indeed, they tried everything it seems, just short of paying Americans to watch their programs Al Jazeera America to close down https://t.co/EmFjBw9uC1 pic.twitter.com/HDea8ujTPt  Al Jazeera America (@ajam) January 13, 2016In 2012, the Qatari-owned Al Jazeera purchased Current TV from Al Gore for an inflated $500 million. Wait, it gets worse MONEY FOR NOTHING: Gore got fat off the AJAM deal.In addition to the $500 million which Doha blew on buying Gore s lemon, Current TV, the Qataris have spent at least $50 million per year between 2012   2015, along with many millions spent on advertising AJAM on other network slots, online ads, along with billboards and print media promotions. This was the Qataris   easy  ticket on to US cable and satellite networks. Boy, did Gore pull a fast one there.  In total, you would be looking at $700 million for the whole party. At its apex, AJAM would be lucky to pull in 30,000 viewers during prime time   which really amounts to a  nothing  market share.With all that money, and considering the hundreds of staff and  media executives  and producers they employed, it s safe to say that someone(s) did not have a clue what they were doing.What a colossal joke.On the bright side, the Qataris can always blame the collapse in oil prices for their lack of spare cash to fund their propaganda mills.READ MORE MAINSTREAM MEDIA EPIC FAILS AT: 21st Century Wire MSM Watch'\n",
    "validateNews(title,text)\n",
    "             \n",
    "            "
   ]
  }
 ],
 "metadata": {
  "kernelspec": {
   "display_name": "Python 3",
   "language": "python",
   "name": "python3"
  },
  "language_info": {
   "codemirror_mode": {
    "name": "ipython",
    "version": 3
   },
   "file_extension": ".py",
   "mimetype": "text/x-python",
   "name": "python",
   "nbconvert_exporter": "python",
   "pygments_lexer": "ipython3",
   "version": "3.8.2"
  }
 },
 "nbformat": 4,
 "nbformat_minor": 4
}
