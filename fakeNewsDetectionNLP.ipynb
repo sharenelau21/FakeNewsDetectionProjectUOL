{
 "cells": [
  {
   "cell_type": "code",
   "execution_count": 1,
   "metadata": {},
   "outputs": [],
   "source": [
    "import numpy as np\n",
    "import pandas as pd"
   ]
  },
  {
   "cell_type": "code",
   "execution_count": 2,
   "metadata": {},
   "outputs": [],
   "source": [
    "df_fake_news = pd.read_csv(\"dataset/ISOTNews/Fake.csv\")\n",
    "df_real_news = pd.read_csv(\"dataset/ISOTNews/True.csv\")"
   ]
  },
  {
   "cell_type": "code",
   "execution_count": 3,
   "metadata": {},
   "outputs": [
    {
     "name": "stdout",
     "output_type": "stream",
     "text": [
      "Fake news (23481, 4)\n",
      "                                               title  \\\n",
      "0   Donald Trump Sends Out Embarrassing New Year’...   \n",
      "1   Drunk Bragging Trump Staffer Started Russian ...   \n",
      "2   Sheriff David Clarke Becomes An Internet Joke...   \n",
      "3   Trump Is So Obsessed He Even Has Obama’s Name...   \n",
      "4   Pope Francis Just Called Out Donald Trump Dur...   \n",
      "\n",
      "                                                text subject  \\\n",
      "0  Donald Trump just couldn t wish all Americans ...    News   \n",
      "1  House Intelligence Committee Chairman Devin Nu...    News   \n",
      "2  On Friday, it was revealed that former Milwauk...    News   \n",
      "3  On Christmas day, Donald Trump announced that ...    News   \n",
      "4  Pope Francis used his annual Christmas Day mes...    News   \n",
      "\n",
      "                date  \n",
      "0  December 31, 2017  \n",
      "1  December 31, 2017  \n",
      "2  December 30, 2017  \n",
      "3  December 29, 2017  \n",
      "4  December 25, 2017  \n",
      "Real news (21417, 4)\n",
      "                                               title  \\\n",
      "0  As U.S. budget fight looms, Republicans flip t...   \n",
      "1  U.S. military to accept transgender recruits o...   \n",
      "2  Senior U.S. Republican senator: 'Let Mr. Muell...   \n",
      "3  FBI Russia probe helped by Australian diplomat...   \n",
      "4  Trump wants Postal Service to charge 'much mor...   \n",
      "\n",
      "                                                text       subject  \\\n",
      "0  WASHINGTON (Reuters) - The head of a conservat...  politicsNews   \n",
      "1  WASHINGTON (Reuters) - Transgender people will...  politicsNews   \n",
      "2  WASHINGTON (Reuters) - The special counsel inv...  politicsNews   \n",
      "3  WASHINGTON (Reuters) - Trump campaign adviser ...  politicsNews   \n",
      "4  SEATTLE/WASHINGTON (Reuters) - President Donal...  politicsNews   \n",
      "\n",
      "                 date  \n",
      "0  December 31, 2017   \n",
      "1  December 29, 2017   \n",
      "2  December 31, 2017   \n",
      "3  December 30, 2017   \n",
      "4  December 29, 2017   \n"
     ]
    }
   ],
   "source": [
    "print(\"Fake news\", df_fake_news.shape)\n",
    "print(df_fake_news.head())\n",
    "print(\"Real news\", df_real_news.shape)\n",
    "print(df_real_news.head())"
   ]
  },
  {
   "cell_type": "code",
   "execution_count": 4,
   "metadata": {},
   "outputs": [
    {
     "data": {
      "text/plain": [
       "subject\n",
       "Government News    1570\n",
       "Middle-east         778\n",
       "News               9050\n",
       "US_News             783\n",
       "left-news          4459\n",
       "politics           6841\n",
       "Name: title, dtype: int64"
      ]
     },
     "execution_count": 4,
     "metadata": {},
     "output_type": "execute_result"
    }
   ],
   "source": [
    "df_fake_news.groupby(['subject']).count().title"
   ]
  },
  {
   "cell_type": "code",
   "execution_count": 5,
   "metadata": {},
   "outputs": [
    {
     "data": {
      "text/plain": [
       "subject\n",
       "politicsNews    11272\n",
       "worldnews       10145\n",
       "Name: title, dtype: int64"
      ]
     },
     "execution_count": 5,
     "metadata": {},
     "output_type": "execute_result"
    }
   ],
   "source": [
    "df_real_news.groupby(['subject']).count().title"
   ]
  },
  {
   "cell_type": "code",
   "execution_count": 6,
   "metadata": {},
   "outputs": [],
   "source": [
    "df_fake_news[\"isFake\"]=1\n",
    "df_real_news[\"isFake\"]=0"
   ]
  },
  {
   "cell_type": "code",
   "execution_count": 7,
   "metadata": {},
   "outputs": [],
   "source": [
    "df_all_news = pd.concat([df_fake_news,df_real_news])"
   ]
  },
  {
   "cell_type": "code",
   "execution_count": 8,
   "metadata": {},
   "outputs": [
    {
     "name": "stdout",
     "output_type": "stream",
     "text": [
      "(44898, 5)\n"
     ]
    }
   ],
   "source": [
    "print(df_all_news.shape)"
   ]
  },
  {
   "cell_type": "code",
   "execution_count": 9,
   "metadata": {},
   "outputs": [
    {
     "data": {
      "text/plain": [
       "<AxesSubplot:ylabel='title'>"
      ]
     },
     "execution_count": 9,
     "metadata": {},
     "output_type": "execute_result"
    },
    {
     "data": {
      "image/png": "[encoded data removed]",
      "text/plain": [
       "<Figure size 432x288 with 1 Axes>"
      ]
     },
     "metadata": {},
     "output_type": "display_data"
    }
   ],
   "source": [
    "df_all_news.groupby('isFake').count().plot(kind='pie', y = 'title', autopct='%1.1f%%', legend = False)"
   ]
  },
  {
   "cell_type": "code",
   "execution_count": 10,
   "metadata": {},
   "outputs": [
    {
     "name": "stdout",
     "output_type": "stream",
     "text": [
      "(44898, 5)\n"
     ]
    }
   ],
   "source": [
    "print(df_all_news.shape)"
   ]
  },
  {
   "cell_type": "code",
   "execution_count": 11,
   "metadata": {},
   "outputs": [
    {
     "data": {
      "text/plain": [
       "0     Donald Trump Sends Out Embarrassing New Year’...\n",
       "1     Drunk Bragging Trump Staffer Started Russian ...\n",
       "2     Sheriff David Clarke Becomes An Internet Joke...\n",
       "3     Trump Is So Obsessed He Even Has Obama’s Name...\n",
       "4     Pope Francis Just Called Out Donald Trump Dur...\n",
       "Name: title, dtype: object"
      ]
     },
     "execution_count": 11,
     "metadata": {},
     "output_type": "execute_result"
    }
   ],
   "source": [
    "df_all_news['title'].head()"
   ]
  },
  {
   "cell_type": "code",
   "execution_count": 12,
   "metadata": {},
   "outputs": [],
   "source": [
    "def countAllCapitalWordInText(text):\n",
    "    return np.sum([x.isupper() for x in text.split()])"
   ]
  },
  {
   "cell_type": "code",
   "execution_count": 13,
   "metadata": {},
   "outputs": [],
   "source": [
    "df_all_news['numExclaimsInTitle'] =  df_all_news.title.str.count(\"!\")\n",
    "df_all_news['allCapsInTitle'] = df_all_news.title.apply(countAllCapitalWordInText)"
   ]
  },
  {
   "cell_type": "code",
   "execution_count": 14,
   "metadata": {},
   "outputs": [
    {
     "data": {
      "text/plain": [
       "allCapsInTitle\n",
       "0     3008\n",
       "1     4621\n",
       "2     3923\n",
       "3     3221\n",
       "4     2562\n",
       "5     2093\n",
       "6     1432\n",
       "7      867\n",
       "8      497\n",
       "9      336\n",
       "10     166\n",
       "11     157\n",
       "12     135\n",
       "13     116\n",
       "14     138\n",
       "15      81\n",
       "16      42\n",
       "17      32\n",
       "18      25\n",
       "19      10\n",
       "20      10\n",
       "21       3\n",
       "23       4\n",
       "24       2\n",
       "Name: title, dtype: int64"
      ]
     },
     "execution_count": 14,
     "metadata": {},
     "output_type": "execute_result"
    }
   ],
   "source": [
    "df_all_news[df_all_news.isFake == 1].groupby('allCapsInTitle').count().title"
   ]
  },
  {
   "cell_type": "code",
   "execution_count": 15,
   "metadata": {},
   "outputs": [
    {
     "data": {
      "text/plain": [
       "allCapsInTitle\n",
       "0    14073\n",
       "1     6455\n",
       "2      813\n",
       "3       74\n",
       "4        1\n",
       "5        1\n",
       "Name: title, dtype: int64"
      ]
     },
     "execution_count": 15,
     "metadata": {},
     "output_type": "execute_result"
    }
   ],
   "source": [
    "df_all_news[df_all_news.isFake == 0].groupby('allCapsInTitle').count().title"
   ]
  },
  {
   "cell_type": "code",
   "execution_count": 16,
   "metadata": {},
   "outputs": [
    {
     "name": "stdout",
     "output_type": "stream",
     "text": [
      "                                               title  \\\n",
      "0   Donald Trump Sends Out Embarrassing New Year’...   \n",
      "1   Drunk Bragging Trump Staffer Started Russian ...   \n",
      "2   Sheriff David Clarke Becomes An Internet Joke...   \n",
      "3   Trump Is So Obsessed He Even Has Obama’s Name...   \n",
      "4   Pope Francis Just Called Out Donald Trump Dur...   \n",
      "\n",
      "                                                text subject  \\\n",
      "0  Donald Trump just couldn t wish all Americans ...    News   \n",
      "1  House Intelligence Committee Chairman Devin Nu...    News   \n",
      "2  On Friday, it was revealed that former Milwauk...    News   \n",
      "3  On Christmas day, Donald Trump announced that ...    News   \n",
      "4  Pope Francis used his annual Christmas Day mes...    News   \n",
      "\n",
      "                date  isFake  numExclaimsInTitle  allCapsInTitle  \n",
      "0  December 31, 2017       1                   0               0  \n",
      "1  December 31, 2017       1                   0               0  \n",
      "2  December 30, 2017       1                   0               0  \n",
      "3  December 29, 2017       1                   0               1  \n",
      "4  December 25, 2017       1                   0               0  \n"
     ]
    }
   ],
   "source": [
    "import nltk\n",
    "\n",
    "print(df_all_news.head())"
   ]
  },
  {
   "cell_type": "code",
   "execution_count": 17,
   "metadata": {},
   "outputs": [],
   "source": [
    "\n",
    "df_all_news['titleWordCount'] = df_all_news['title'].apply(lambda x: len(nltk.word_tokenize(x)))\n",
    "df_all_news['textWordCount'] = df_all_news['text'].apply(lambda x: len(nltk.word_tokenize(x)))\n",
    "df_all_news['textSentenceCount'] = df_all_news['text'].apply(lambda x: len(nltk.sent_tokenize(x)))"
   ]
  },
  {
   "cell_type": "code",
   "execution_count": 18,
   "metadata": {},
   "outputs": [
    {
     "data": {
      "text/html": [
       "<div>\n",
       "<style scoped>\n",
       "    .dataframe tbody tr th:only-of-type {\n",
       "        vertical-align: middle;\n",
       "    }\n",
       "\n",
       "    .dataframe tbody tr th {\n",
       "        vertical-align: top;\n",
       "    }\n",
       "\n",
       "    .dataframe thead th {\n",
       "        text-align: right;\n",
       "    }\n",
       "</style>\n",
       "<table border=\"1\" class=\"dataframe\">\n",
       "  <thead>\n",
       "    <tr style=\"text-align: right;\">\n",
       "      <th></th>\n",
       "      <th>title</th>\n",
       "      <th>text</th>\n",
       "      <th>subject</th>\n",
       "      <th>date</th>\n",
       "      <th>isFake</th>\n",
       "      <th>numExclaimsInTitle</th>\n",
       "      <th>allCapsInTitle</th>\n",
       "      <th>titleWordCount</th>\n",
       "      <th>textWordCount</th>\n",
       "      <th>textSentenceCount</th>\n",
       "    </tr>\n",
       "  </thead>\n",
       "  <tbody>\n",
       "    <tr>\n",
       "      <th>0</th>\n",
       "      <td>Donald Trump Sends Out Embarrassing New Year’...</td>\n",
       "      <td>Donald Trump just couldn t wish all Americans ...</td>\n",
       "      <td>News</td>\n",
       "      <td>December 31, 2017</td>\n",
       "      <td>1</td>\n",
       "      <td>0</td>\n",
       "      <td>0</td>\n",
       "      <td>15</td>\n",
       "      <td>599</td>\n",
       "      <td>28</td>\n",
       "    </tr>\n",
       "    <tr>\n",
       "      <th>1</th>\n",
       "      <td>Drunk Bragging Trump Staffer Started Russian ...</td>\n",
       "      <td>House Intelligence Committee Chairman Devin Nu...</td>\n",
       "      <td>News</td>\n",
       "      <td>December 31, 2017</td>\n",
       "      <td>1</td>\n",
       "      <td>0</td>\n",
       "      <td>0</td>\n",
       "      <td>8</td>\n",
       "      <td>331</td>\n",
       "      <td>11</td>\n",
       "    </tr>\n",
       "    <tr>\n",
       "      <th>2</th>\n",
       "      <td>Sheriff David Clarke Becomes An Internet Joke...</td>\n",
       "      <td>On Friday, it was revealed that former Milwauk...</td>\n",
       "      <td>News</td>\n",
       "      <td>December 30, 2017</td>\n",
       "      <td>1</td>\n",
       "      <td>0</td>\n",
       "      <td>0</td>\n",
       "      <td>17</td>\n",
       "      <td>689</td>\n",
       "      <td>25</td>\n",
       "    </tr>\n",
       "    <tr>\n",
       "      <th>3</th>\n",
       "      <td>Trump Is So Obsessed He Even Has Obama’s Name...</td>\n",
       "      <td>On Christmas day, Donald Trump announced that ...</td>\n",
       "      <td>News</td>\n",
       "      <td>December 29, 2017</td>\n",
       "      <td>1</td>\n",
       "      <td>0</td>\n",
       "      <td>1</td>\n",
       "      <td>18</td>\n",
       "      <td>519</td>\n",
       "      <td>15</td>\n",
       "    </tr>\n",
       "    <tr>\n",
       "      <th>4</th>\n",
       "      <td>Pope Francis Just Called Out Donald Trump Dur...</td>\n",
       "      <td>Pope Francis used his annual Christmas Day mes...</td>\n",
       "      <td>News</td>\n",
       "      <td>December 25, 2017</td>\n",
       "      <td>1</td>\n",
       "      <td>0</td>\n",
       "      <td>0</td>\n",
       "      <td>11</td>\n",
       "      <td>458</td>\n",
       "      <td>19</td>\n",
       "    </tr>\n",
       "  </tbody>\n",
       "</table>\n",
       "</div>"
      ],
      "text/plain": [
       "                                               title  \\\n",
       "0   Donald Trump Sends Out Embarrassing New Year’...   \n",
       "1   Drunk Bragging Trump Staffer Started Russian ...   \n",
       "2   Sheriff David Clarke Becomes An Internet Joke...   \n",
       "3   Trump Is So Obsessed He Even Has Obama’s Name...   \n",
       "4   Pope Francis Just Called Out Donald Trump Dur...   \n",
       "\n",
       "                                                text subject  \\\n",
       "0  Donald Trump just couldn t wish all Americans ...    News   \n",
       "1  House Intelligence Committee Chairman Devin Nu...    News   \n",
       "2  On Friday, it was revealed that former Milwauk...    News   \n",
       "3  On Christmas day, Donald Trump announced that ...    News   \n",
       "4  Pope Francis used his annual Christmas Day mes...    News   \n",
       "\n",
       "                date  isFake  numExclaimsInTitle  allCapsInTitle  \\\n",
       "0  December 31, 2017       1                   0               0   \n",
       "1  December 31, 2017       1                   0               0   \n",
       "2  December 30, 2017       1                   0               0   \n",
       "3  December 29, 2017       1                   0               1   \n",
       "4  December 25, 2017       1                   0               0   \n",
       "\n",
       "   titleWordCount  textWordCount  textSentenceCount  \n",
       "0              15            599                 28  \n",
       "1               8            331                 11  \n",
       "2              17            689                 25  \n",
       "3              18            519                 15  \n",
       "4              11            458                 19  "
      ]
     },
     "execution_count": 18,
     "metadata": {},
     "output_type": "execute_result"
    }
   ],
   "source": [
    "df_all_news.head()"
   ]
  },
  {
   "cell_type": "code",
   "execution_count": 19,
   "metadata": {},
   "outputs": [],
   "source": [
    "df_all_news = df_all_news[df_all_news['textWordCount']>0]"
   ]
  },
  {
   "cell_type": "code",
   "execution_count": 20,
   "metadata": {},
   "outputs": [
    {
     "data": {
      "text/html": [
       "<div>\n",
       "<style scoped>\n",
       "    .dataframe tbody tr th:only-of-type {\n",
       "        vertical-align: middle;\n",
       "    }\n",
       "\n",
       "    .dataframe tbody tr th {\n",
       "        vertical-align: top;\n",
       "    }\n",
       "\n",
       "    .dataframe thead th {\n",
       "        text-align: right;\n",
       "    }\n",
       "</style>\n",
       "<table border=\"1\" class=\"dataframe\">\n",
       "  <thead>\n",
       "    <tr style=\"text-align: right;\">\n",
       "      <th></th>\n",
       "      <th>title</th>\n",
       "      <th>text</th>\n",
       "      <th>subject</th>\n",
       "      <th>date</th>\n",
       "      <th>isFake</th>\n",
       "      <th>numExclaimsInTitle</th>\n",
       "      <th>allCapsInTitle</th>\n",
       "      <th>titleWordCount</th>\n",
       "      <th>textWordCount</th>\n",
       "      <th>textSentenceCount</th>\n",
       "    </tr>\n",
       "  </thead>\n",
       "  <tbody>\n",
       "    <tr>\n",
       "      <th>0</th>\n",
       "      <td>Donald Trump Sends Out Embarrassing New Year’...</td>\n",
       "      <td>Donald Trump just couldn t wish all Americans ...</td>\n",
       "      <td>News</td>\n",
       "      <td>December 31, 2017</td>\n",
       "      <td>1</td>\n",
       "      <td>0</td>\n",
       "      <td>0</td>\n",
       "      <td>15</td>\n",
       "      <td>599</td>\n",
       "      <td>28</td>\n",
       "    </tr>\n",
       "    <tr>\n",
       "      <th>1</th>\n",
       "      <td>Drunk Bragging Trump Staffer Started Russian ...</td>\n",
       "      <td>House Intelligence Committee Chairman Devin Nu...</td>\n",
       "      <td>News</td>\n",
       "      <td>December 31, 2017</td>\n",
       "      <td>1</td>\n",
       "      <td>0</td>\n",
       "      <td>0</td>\n",
       "      <td>8</td>\n",
       "      <td>331</td>\n",
       "      <td>11</td>\n",
       "    </tr>\n",
       "    <tr>\n",
       "      <th>2</th>\n",
       "      <td>Sheriff David Clarke Becomes An Internet Joke...</td>\n",
       "      <td>On Friday, it was revealed that former Milwauk...</td>\n",
       "      <td>News</td>\n",
       "      <td>December 30, 2017</td>\n",
       "      <td>1</td>\n",
       "      <td>0</td>\n",
       "      <td>0</td>\n",
       "      <td>17</td>\n",
       "      <td>689</td>\n",
       "      <td>25</td>\n",
       "    </tr>\n",
       "    <tr>\n",
       "      <th>3</th>\n",
       "      <td>Trump Is So Obsessed He Even Has Obama’s Name...</td>\n",
       "      <td>On Christmas day, Donald Trump announced that ...</td>\n",
       "      <td>News</td>\n",
       "      <td>December 29, 2017</td>\n",
       "      <td>1</td>\n",
       "      <td>0</td>\n",
       "      <td>1</td>\n",
       "      <td>18</td>\n",
       "      <td>519</td>\n",
       "      <td>15</td>\n",
       "    </tr>\n",
       "    <tr>\n",
       "      <th>4</th>\n",
       "      <td>Pope Francis Just Called Out Donald Trump Dur...</td>\n",
       "      <td>Pope Francis used his annual Christmas Day mes...</td>\n",
       "      <td>News</td>\n",
       "      <td>December 25, 2017</td>\n",
       "      <td>1</td>\n",
       "      <td>0</td>\n",
       "      <td>0</td>\n",
       "      <td>11</td>\n",
       "      <td>458</td>\n",
       "      <td>19</td>\n",
       "    </tr>\n",
       "  </tbody>\n",
       "</table>\n",
       "</div>"
      ],
      "text/plain": [
       "                                               title  \\\n",
       "0   Donald Trump Sends Out Embarrassing New Year’...   \n",
       "1   Drunk Bragging Trump Staffer Started Russian ...   \n",
       "2   Sheriff David Clarke Becomes An Internet Joke...   \n",
       "3   Trump Is So Obsessed He Even Has Obama’s Name...   \n",
       "4   Pope Francis Just Called Out Donald Trump Dur...   \n",
       "\n",
       "                                                text subject  \\\n",
       "0  Donald Trump just couldn t wish all Americans ...    News   \n",
       "1  House Intelligence Committee Chairman Devin Nu...    News   \n",
       "2  On Friday, it was revealed that former Milwauk...    News   \n",
       "3  On Christmas day, Donald Trump announced that ...    News   \n",
       "4  Pope Francis used his annual Christmas Day mes...    News   \n",
       "\n",
       "                date  isFake  numExclaimsInTitle  allCapsInTitle  \\\n",
       "0  December 31, 2017       1                   0               0   \n",
       "1  December 31, 2017       1                   0               0   \n",
       "2  December 30, 2017       1                   0               0   \n",
       "3  December 29, 2017       1                   0               1   \n",
       "4  December 25, 2017       1                   0               0   \n",
       "\n",
       "   titleWordCount  textWordCount  textSentenceCount  \n",
       "0              15            599                 28  \n",
       "1               8            331                 11  \n",
       "2              17            689                 25  \n",
       "3              18            519                 15  \n",
       "4              11            458                 19  "
      ]
     },
     "execution_count": 20,
     "metadata": {},
     "output_type": "execute_result"
    }
   ],
   "source": [
    "df_all_news.head()"
   ]
  },
  {
   "cell_type": "code",
   "execution_count": 21,
   "metadata": {},
   "outputs": [],
   "source": [
    "col = df_all_news.apply(lambda row: row.textWordCount / row.textSentenceCount, axis=1)\n",
    "df_all_news = df_all_news.assign(averageWordCountInSentence = col.values)\n"
   ]
  },
  {
   "cell_type": "code",
   "execution_count": 22,
   "metadata": {},
   "outputs": [
    {
     "name": "stdout",
     "output_type": "stream",
     "text": [
      "                                               title  \\\n",
      "0   Donald Trump Sends Out Embarrassing New Year’...   \n",
      "1   Drunk Bragging Trump Staffer Started Russian ...   \n",
      "2   Sheriff David Clarke Becomes An Internet Joke...   \n",
      "3   Trump Is So Obsessed He Even Has Obama’s Name...   \n",
      "4   Pope Francis Just Called Out Donald Trump Dur...   \n",
      "\n",
      "                                                text subject  \\\n",
      "0  Donald Trump just couldn t wish all Americans ...    News   \n",
      "1  House Intelligence Committee Chairman Devin Nu...    News   \n",
      "2  On Friday, it was revealed that former Milwauk...    News   \n",
      "3  On Christmas day, Donald Trump announced that ...    News   \n",
      "4  Pope Francis used his annual Christmas Day mes...    News   \n",
      "\n",
      "                date  isFake  numExclaimsInTitle  allCapsInTitle  \\\n",
      "0  December 31, 2017       1                   0               0   \n",
      "1  December 31, 2017       1                   0               0   \n",
      "2  December 30, 2017       1                   0               0   \n",
      "3  December 29, 2017       1                   0               1   \n",
      "4  December 25, 2017       1                   0               0   \n",
      "\n",
      "   titleWordCount  textWordCount  textSentenceCount  \\\n",
      "0              15            599                 28   \n",
      "1               8            331                 11   \n",
      "2              17            689                 25   \n",
      "3              18            519                 15   \n",
      "4              11            458                 19   \n",
      "\n",
      "   averageWordCountInSentence  \n",
      "0                   21.392857  \n",
      "1                   30.090909  \n",
      "2                   27.560000  \n",
      "3                   34.600000  \n",
      "4                   24.105263  \n"
     ]
    }
   ],
   "source": [
    "print(df_all_news.head())"
   ]
  },
  {
   "cell_type": "code",
   "execution_count": 23,
   "metadata": {},
   "outputs": [
    {
     "name": "stdout",
     "output_type": "stream",
     "text": [
      "0    34.56\n",
      "1    43.36\n",
      "2    50.50\n",
      "3    26.71\n",
      "4    59.98\n",
      "5    64.04\n",
      "6    41.74\n",
      "7    16.29\n",
      "8    40.52\n",
      "9    53.55\n",
      "Name: readability, dtype: float64\n"
     ]
    }
   ],
   "source": [
    "import textstat as st\n",
    "df_all_news[\"readability\"] = df_all_news[\"text\"].apply(st.flesch_reading_ease)\n",
    "print(df_all_news[\"readability\"].head(10))"
   ]
  },
  {
   "cell_type": "code",
   "execution_count": 26,
   "metadata": {},
   "outputs": [],
   "source": [
    "from spellchecker import SpellChecker\n",
    "spell = SpellChecker()\n",
    "def countSpellingError(text):    \n",
    "    error = 0\n",
    "    tokens = nltk.word_tokenize(text)\n",
    "    for token in tokens:\n",
    "        if token.lower() not in spell:\n",
    "            error +=1\n",
    "    return error"
   ]
  },
  {
   "cell_type": "code",
   "execution_count": 27,
   "metadata": {},
   "outputs": [],
   "source": [
    "df_all_news[\"spellings_error\"] = df_all_news[\"text\"].apply(countSpellingError)"
   ]
  },
  {
   "cell_type": "code",
   "execution_count": 28,
   "metadata": {},
   "outputs": [
    {
     "name": "stdout",
     "output_type": "stream",
     "text": [
      "                                               title  \\\n",
      "0   Donald Trump Sends Out Embarrassing New Year’...   \n",
      "1   Drunk Bragging Trump Staffer Started Russian ...   \n",
      "2   Sheriff David Clarke Becomes An Internet Joke...   \n",
      "3   Trump Is So Obsessed He Even Has Obama’s Name...   \n",
      "4   Pope Francis Just Called Out Donald Trump Dur...   \n",
      "\n",
      "                                                text subject  \\\n",
      "0  Donald Trump just couldn t wish all Americans ...    News   \n",
      "1  House Intelligence Committee Chairman Devin Nu...    News   \n",
      "2  On Friday, it was revealed that former Milwauk...    News   \n",
      "3  On Christmas day, Donald Trump announced that ...    News   \n",
      "4  Pope Francis used his annual Christmas Day mes...    News   \n",
      "\n",
      "                date  isFake  numExclaimsInTitle  allCapsInTitle  \\\n",
      "0  December 31, 2017       1                   0               0   \n",
      "1  December 31, 2017       1                   0               0   \n",
      "2  December 30, 2017       1                   0               0   \n",
      "3  December 29, 2017       1                   0               1   \n",
      "4  December 25, 2017       1                   0               0   \n",
      "\n",
      "   titleWordCount  textWordCount  textSentenceCount  \\\n",
      "0              15            599                 28   \n",
      "1               8            331                 11   \n",
      "2              17            689                 25   \n",
      "3              18            519                 15   \n",
      "4              11            458                 19   \n",
      "\n",
      "   averageWordCountInSentence  readability  spellings_error  \n",
      "0                   21.392857        34.56              186  \n",
      "1                   30.090909        43.36               56  \n",
      "2                   27.560000        50.50              197  \n",
      "3                   34.600000        26.71              145  \n",
      "4                   24.105263        59.98               42  \n"
     ]
    }
   ],
   "source": [
    "print(df_all_news.head())"
   ]
  },
  {
   "cell_type": "code",
   "execution_count": 45,
   "metadata": {},
   "outputs": [],
   "source": [
    "# word and sentence complexity\n",
    "def lexical_diversity(text):\n",
    "    words = nltk.word_tokenize(text)\n",
    "    diversity = len(set(words))/len(words)\n",
    "    return diversity\n",
    "df_all_news[\"lexicalDiversity\"] = df_all_news[\"text\"].apply(lexical_diversity)"
   ]
  },
  {
   "cell_type": "code",
   "execution_count": 29,
   "metadata": {},
   "outputs": [
    {
     "name": "stdout",
     "output_type": "stream",
     "text": [
      "                                               title  \\\n",
      "0   Donald Trump Sends Out Embarrassing New Year’...   \n",
      "1   Drunk Bragging Trump Staffer Started Russian ...   \n",
      "2   Sheriff David Clarke Becomes An Internet Joke...   \n",
      "3   Trump Is So Obsessed He Even Has Obama’s Name...   \n",
      "4   Pope Francis Just Called Out Donald Trump Dur...   \n",
      "\n",
      "                                                text subject  \\\n",
      "0  Donald Trump just couldn t wish all Americans ...    News   \n",
      "1  House Intelligence Committee Chairman Devin Nu...    News   \n",
      "2  On Friday, it was revealed that former Milwauk...    News   \n",
      "3  On Christmas day, Donald Trump announced that ...    News   \n",
      "4  Pope Francis used his annual Christmas Day mes...    News   \n",
      "\n",
      "                date  isFake  numExclaimsInTitle  allCapsInTitle  \\\n",
      "0  December 31, 2017       1                   0               0   \n",
      "1  December 31, 2017       1                   0               0   \n",
      "2  December 30, 2017       1                   0               0   \n",
      "3  December 29, 2017       1                   0               1   \n",
      "4  December 25, 2017       1                   0               0   \n",
      "\n",
      "   titleWordCount  textWordCount  textSentenceCount  \\\n",
      "0              15            599                 28   \n",
      "1               8            331                 11   \n",
      "2              17            689                 25   \n",
      "3              18            519                 15   \n",
      "4              11            458                 19   \n",
      "\n",
      "   averageWordCountInSentence  readability  spellings_error  \n",
      "0                   21.392857        34.56              186  \n",
      "1                   30.090909        43.36               56  \n",
      "2                   27.560000        50.50              197  \n",
      "3                   34.600000        26.71              145  \n",
      "4                   24.105263        59.98               42  \n"
     ]
    }
   ],
   "source": [
    "print(df_all_news.head())"
   ]
  },
  {
   "cell_type": "code",
   "execution_count": 30,
   "metadata": {},
   "outputs": [],
   "source": [
    "df_all_news['text_word_tokens'] = df_all_news['text'].apply(lambda x: list(nltk.word_tokenize(x)))"
   ]
  },
  {
   "cell_type": "code",
   "execution_count": 31,
   "metadata": {},
   "outputs": [],
   "source": [
    "df_all_news['POS_text'] = df_all_news['text_word_tokens'].apply(nltk.pos_tag)"
   ]
  },
  {
   "cell_type": "code",
   "execution_count": 32,
   "metadata": {},
   "outputs": [],
   "source": [
    "df_all_news['NounCount'] = df_all_news['POS_text'].apply(lambda x: len([t[0] for t in x if t[1].startswith('NN')]))"
   ]
  },
  {
   "cell_type": "code",
   "execution_count": 33,
   "metadata": {},
   "outputs": [],
   "source": [
    "df_all_news['VerbCount'] = df_all_news['POS_text'].apply(lambda x: len([t[0] for t in x if t[1].startswith('VB')]))"
   ]
  },
  {
   "cell_type": "code",
   "execution_count": 34,
   "metadata": {},
   "outputs": [],
   "source": [
    "df_all_news['PronounCount'] = df_all_news['POS_text'].apply(lambda x: len([t[0] for t in x if t[1].startswith('PRP')]))"
   ]
  },
  {
   "cell_type": "code",
   "execution_count": 35,
   "metadata": {},
   "outputs": [],
   "source": [
    "df_all_news['AdjectiveCount'] = df_all_news['POS_text'].apply(lambda x: len([t[0] for t in x if t[1].startswith('JJ')]))"
   ]
  },
  {
   "cell_type": "code",
   "execution_count": 36,
   "metadata": {},
   "outputs": [],
   "source": [
    "df_all_news['ConjunctionCount'] = df_all_news['POS_text'].apply(lambda x: len([t[0] for t in x if t[1].startswith('CC')]))"
   ]
  },
  {
   "cell_type": "code",
   "execution_count": 37,
   "metadata": {},
   "outputs": [],
   "source": [
    "df_all_news['ModalCount'] = df_all_news['POS_text'].apply(lambda x: len([t[0] for t in x if t[1].startswith('MD')]))"
   ]
  },
  {
   "cell_type": "code",
   "execution_count": 38,
   "metadata": {},
   "outputs": [],
   "source": [
    "df_all_news['NumericCount'] = df_all_news['POS_text'].apply(lambda x: len([t[0] for t in x if t[1].startswith('CD')]))"
   ]
  },
  {
   "cell_type": "code",
   "execution_count": 39,
   "metadata": {},
   "outputs": [],
   "source": [
    "df_all_news['ProperNounCount'] = df_all_news['POS_text'].apply(lambda x: len([t[0] for t in x if t[1].startswith('NNP')]))"
   ]
  },
  {
   "cell_type": "code",
   "execution_count": 40,
   "metadata": {},
   "outputs": [],
   "source": [
    "df_all_news['PastTenseCount'] = df_all_news['POS_text'].apply(lambda x: len([t[0] for t in x if t[1].startswith('VBD')]))"
   ]
  },
  {
   "cell_type": "code",
   "execution_count": 41,
   "metadata": {},
   "outputs": [],
   "source": [
    "df_all_news['AdverbCount'] = df_all_news['POS_text'].apply(lambda x: len([t[0] for t in x if t[1].startswith('RB')]))"
   ]
  },
  {
   "cell_type": "code",
   "execution_count": 42,
   "metadata": {},
   "outputs": [],
   "source": [
    "df_all_news['ComparativeCount'] = df_all_news['POS_text'].apply(lambda x: len([t[0] for t in x if t[1] in ['JJR','JJS','RBR','RBS']]))"
   ]
  },
  {
   "cell_type": "code",
   "execution_count": 43,
   "metadata": {},
   "outputs": [
    {
     "name": "stdout",
     "output_type": "stream",
     "text": [
      "<class 'pandas.core.frame.DataFrame'>\n",
      "Int64Index: 44267 entries, 0 to 21416\n",
      "Data columns (total 26 columns):\n",
      " #   Column                      Non-Null Count  Dtype  \n",
      "---  ------                      --------------  -----  \n",
      " 0   title                       44267 non-null  object \n",
      " 1   text                        44267 non-null  object \n",
      " 2   subject                     44267 non-null  object \n",
      " 3   date                        44267 non-null  object \n",
      " 4   isFake                      44267 non-null  int64  \n",
      " 5   numExclaimsInTitle          44267 non-null  int64  \n",
      " 6   allCapsInTitle              44267 non-null  int64  \n",
      " 7   titleWordCount              44267 non-null  int64  \n",
      " 8   textWordCount               44267 non-null  int64  \n",
      " 9   textSentenceCount           44267 non-null  int64  \n",
      " 10  averageWordCountInSentence  44267 non-null  float64\n",
      " 11  readability                 44267 non-null  float64\n",
      " 12  spellings_error             44267 non-null  int64  \n",
      " 13  text_word_tokens            44267 non-null  object \n",
      " 14  POS_text                    44267 non-null  object \n",
      " 15  NounCount                   44267 non-null  int64  \n",
      " 16  VerbCount                   44267 non-null  int64  \n",
      " 17  PronounCount                44267 non-null  int64  \n",
      " 18  AdjectiveCount              44267 non-null  int64  \n",
      " 19  ConjunctionCount            44267 non-null  int64  \n",
      " 20  ModalCount                  44267 non-null  int64  \n",
      " 21  NumericCount                44267 non-null  int64  \n",
      " 22  ProperNounCount             44267 non-null  int64  \n",
      " 23  PastTenseCount              44267 non-null  int64  \n",
      " 24  AdverbCount                 44267 non-null  int64  \n",
      " 25  ComparativeCount            44267 non-null  int64  \n",
      "dtypes: float64(2), int64(18), object(6)\n",
      "memory usage: 9.1+ MB\n",
      "None\n"
     ]
    }
   ],
   "source": [
    "print(df_all_news.info())"
   ]
  },
  {
   "cell_type": "code",
   "execution_count": 46,
   "metadata": {},
   "outputs": [],
   "source": [
    "df_linguistic_features = df_all_news[['title','text','subject','isFake','numExclaimsInTitle','allCapsInTitle','titleWordCount',\n",
    "                                     'textWordCount','textSentenceCount','averageWordCountInSentence','readability','spellings_error',\n",
    "                                     'lexicalDiversity','NounCount','VerbCount','PronounCount','AdjectiveCount','ConjunctionCount','ModalCount',\n",
    "                                     'NumericCount','ProperNounCount','PastTenseCount','AdverbCount','ComparativeCount']]"
   ]
  },
  {
   "cell_type": "code",
   "execution_count": 47,
   "metadata": {},
   "outputs": [],
   "source": [
    "df_linguistic_features.to_csv(\"dataset/ISOTNews/extractedLinguisticFeatures.csv\")"
   ]
  },
  {
   "cell_type": "code",
   "execution_count": 48,
   "metadata": {},
   "outputs": [],
   "source": [
    "def preprocessing(col):\n",
    "    from nltk.stem.wordnet import WordNetLemmatizer\n",
    "    stopwords = nltk.corpus.stopwords.words('english')\n",
    "    lem = WordNetLemmatizer()\n",
    "    return col.apply(lambda x: nltk.word_tokenize(x)) \\\n",
    "    .apply(lambda x: \" \".join( \\\n",
    "        [lem.lemmatize(w.lower()) for w in x \\\n",
    "         if w.lower() not in stopwords])) \\\n",
    "    .str.replace('[^\\w\\s]','')"
   ]
  },
  {
   "cell_type": "code",
   "execution_count": 49,
   "metadata": {},
   "outputs": [
    {
     "name": "stderr",
     "output_type": "stream",
     "text": [
      "<ipython-input-48-1a6dc1c350be>:5: FutureWarning: The default value of regex will change from True to False in a future version.\n",
      "  return col.apply(lambda x: nltk.word_tokenize(x)) \\\n"
     ]
    }
   ],
   "source": [
    "df_all_news['cleanupText'] = preprocessing(df_all_news['text'])"
   ]
  },
  {
   "cell_type": "code",
   "execution_count": 50,
   "metadata": {},
   "outputs": [
    {
     "data": {
      "text/html": [
       "<div>\n",
       "<style scoped>\n",
       "    .dataframe tbody tr th:only-of-type {\n",
       "        vertical-align: middle;\n",
       "    }\n",
       "\n",
       "    .dataframe tbody tr th {\n",
       "        vertical-align: top;\n",
       "    }\n",
       "\n",
       "    .dataframe thead th {\n",
       "        text-align: right;\n",
       "    }\n",
       "</style>\n",
       "<table border=\"1\" class=\"dataframe\">\n",
       "  <thead>\n",
       "    <tr style=\"text-align: right;\">\n",
       "      <th></th>\n",
       "      <th>title</th>\n",
       "      <th>text</th>\n",
       "      <th>subject</th>\n",
       "      <th>date</th>\n",
       "      <th>isFake</th>\n",
       "      <th>numExclaimsInTitle</th>\n",
       "      <th>allCapsInTitle</th>\n",
       "      <th>titleWordCount</th>\n",
       "      <th>textWordCount</th>\n",
       "      <th>textSentenceCount</th>\n",
       "      <th>...</th>\n",
       "      <th>AdjectiveCount</th>\n",
       "      <th>ConjunctionCount</th>\n",
       "      <th>ModalCount</th>\n",
       "      <th>NumericCount</th>\n",
       "      <th>ProperNounCount</th>\n",
       "      <th>PastTenseCount</th>\n",
       "      <th>AdverbCount</th>\n",
       "      <th>ComparativeCount</th>\n",
       "      <th>lexicalDiversity</th>\n",
       "      <th>cleanupText</th>\n",
       "    </tr>\n",
       "  </thead>\n",
       "  <tbody>\n",
       "    <tr>\n",
       "      <th>0</th>\n",
       "      <td>Donald Trump Sends Out Embarrassing New Year’...</td>\n",
       "      <td>Donald Trump just couldn t wish all Americans ...</td>\n",
       "      <td>News</td>\n",
       "      <td>December 31, 2017</td>\n",
       "      <td>1</td>\n",
       "      <td>0</td>\n",
       "      <td>0</td>\n",
       "      <td>15</td>\n",
       "      <td>599</td>\n",
       "      <td>28</td>\n",
       "      <td>...</td>\n",
       "      <td>36</td>\n",
       "      <td>15</td>\n",
       "      <td>5</td>\n",
       "      <td>34</td>\n",
       "      <td>101</td>\n",
       "      <td>12</td>\n",
       "      <td>37</td>\n",
       "      <td>7</td>\n",
       "      <td>0.435726</td>\n",
       "      <td>donald trump wish american happy new year leav...</td>\n",
       "    </tr>\n",
       "    <tr>\n",
       "      <th>1</th>\n",
       "      <td>Drunk Bragging Trump Staffer Started Russian ...</td>\n",
       "      <td>House Intelligence Committee Chairman Devin Nu...</td>\n",
       "      <td>News</td>\n",
       "      <td>December 31, 2017</td>\n",
       "      <td>1</td>\n",
       "      <td>0</td>\n",
       "      <td>0</td>\n",
       "      <td>8</td>\n",
       "      <td>331</td>\n",
       "      <td>11</td>\n",
       "      <td>...</td>\n",
       "      <td>25</td>\n",
       "      <td>8</td>\n",
       "      <td>0</td>\n",
       "      <td>4</td>\n",
       "      <td>60</td>\n",
       "      <td>19</td>\n",
       "      <td>11</td>\n",
       "      <td>1</td>\n",
       "      <td>0.595166</td>\n",
       "      <td>house intelligence committee chairman devin nu...</td>\n",
       "    </tr>\n",
       "    <tr>\n",
       "      <th>2</th>\n",
       "      <td>Sheriff David Clarke Becomes An Internet Joke...</td>\n",
       "      <td>On Friday, it was revealed that former Milwauk...</td>\n",
       "      <td>News</td>\n",
       "      <td>December 30, 2017</td>\n",
       "      <td>1</td>\n",
       "      <td>0</td>\n",
       "      <td>0</td>\n",
       "      <td>17</td>\n",
       "      <td>689</td>\n",
       "      <td>25</td>\n",
       "      <td>...</td>\n",
       "      <td>34</td>\n",
       "      <td>10</td>\n",
       "      <td>5</td>\n",
       "      <td>29</td>\n",
       "      <td>118</td>\n",
       "      <td>20</td>\n",
       "      <td>19</td>\n",
       "      <td>3</td>\n",
       "      <td>0.480406</td>\n",
       "      <td>friday  revealed former milwaukee sheriff davi...</td>\n",
       "    </tr>\n",
       "    <tr>\n",
       "      <th>3</th>\n",
       "      <td>Trump Is So Obsessed He Even Has Obama’s Name...</td>\n",
       "      <td>On Christmas day, Donald Trump announced that ...</td>\n",
       "      <td>News</td>\n",
       "      <td>December 29, 2017</td>\n",
       "      <td>1</td>\n",
       "      <td>0</td>\n",
       "      <td>1</td>\n",
       "      <td>18</td>\n",
       "      <td>519</td>\n",
       "      <td>15</td>\n",
       "      <td>...</td>\n",
       "      <td>25</td>\n",
       "      <td>10</td>\n",
       "      <td>6</td>\n",
       "      <td>20</td>\n",
       "      <td>67</td>\n",
       "      <td>13</td>\n",
       "      <td>22</td>\n",
       "      <td>1</td>\n",
       "      <td>0.502890</td>\n",
       "      <td>christmas day  donald trump announced would ba...</td>\n",
       "    </tr>\n",
       "    <tr>\n",
       "      <th>4</th>\n",
       "      <td>Pope Francis Just Called Out Donald Trump Dur...</td>\n",
       "      <td>Pope Francis used his annual Christmas Day mes...</td>\n",
       "      <td>News</td>\n",
       "      <td>December 25, 2017</td>\n",
       "      <td>1</td>\n",
       "      <td>0</td>\n",
       "      <td>0</td>\n",
       "      <td>11</td>\n",
       "      <td>458</td>\n",
       "      <td>19</td>\n",
       "      <td>...</td>\n",
       "      <td>21</td>\n",
       "      <td>17</td>\n",
       "      <td>3</td>\n",
       "      <td>2</td>\n",
       "      <td>45</td>\n",
       "      <td>21</td>\n",
       "      <td>15</td>\n",
       "      <td>0</td>\n",
       "      <td>0.504367</td>\n",
       "      <td>pope francis used annual christmas day message...</td>\n",
       "    </tr>\n",
       "  </tbody>\n",
       "</table>\n",
       "<p>5 rows × 28 columns</p>\n",
       "</div>"
      ],
      "text/plain": [
       "                                               title  \\\n",
       "0   Donald Trump Sends Out Embarrassing New Year’...   \n",
       "1   Drunk Bragging Trump Staffer Started Russian ...   \n",
       "2   Sheriff David Clarke Becomes An Internet Joke...   \n",
       "3   Trump Is So Obsessed He Even Has Obama’s Name...   \n",
       "4   Pope Francis Just Called Out Donald Trump Dur...   \n",
       "\n",
       "                                                text subject  \\\n",
       "0  Donald Trump just couldn t wish all Americans ...    News   \n",
       "1  House Intelligence Committee Chairman Devin Nu...    News   \n",
       "2  On Friday, it was revealed that former Milwauk...    News   \n",
       "3  On Christmas day, Donald Trump announced that ...    News   \n",
       "4  Pope Francis used his annual Christmas Day mes...    News   \n",
       "\n",
       "                date  isFake  numExclaimsInTitle  allCapsInTitle  \\\n",
       "0  December 31, 2017       1                   0               0   \n",
       "1  December 31, 2017       1                   0               0   \n",
       "2  December 30, 2017       1                   0               0   \n",
       "3  December 29, 2017       1                   0               1   \n",
       "4  December 25, 2017       1                   0               0   \n",
       "\n",
       "   titleWordCount  textWordCount  textSentenceCount  ...  AdjectiveCount  \\\n",
       "0              15            599                 28  ...              36   \n",
       "1               8            331                 11  ...              25   \n",
       "2              17            689                 25  ...              34   \n",
       "3              18            519                 15  ...              25   \n",
       "4              11            458                 19  ...              21   \n",
       "\n",
       "   ConjunctionCount  ModalCount NumericCount ProperNounCount  PastTenseCount  \\\n",
       "0                15           5           34             101              12   \n",
       "1                 8           0            4              60              19   \n",
       "2                10           5           29             118              20   \n",
       "3                10           6           20              67              13   \n",
       "4                17           3            2              45              21   \n",
       "\n",
       "   AdverbCount  ComparativeCount  lexicalDiversity  \\\n",
       "0           37                 7          0.435726   \n",
       "1           11                 1          0.595166   \n",
       "2           19                 3          0.480406   \n",
       "3           22                 1          0.502890   \n",
       "4           15                 0          0.504367   \n",
       "\n",
       "                                         cleanupText  \n",
       "0  donald trump wish american happy new year leav...  \n",
       "1  house intelligence committee chairman devin nu...  \n",
       "2  friday  revealed former milwaukee sheriff davi...  \n",
       "3  christmas day  donald trump announced would ba...  \n",
       "4  pope francis used annual christmas day message...  \n",
       "\n",
       "[5 rows x 28 columns]"
      ]
     },
     "execution_count": 50,
     "metadata": {},
     "output_type": "execute_result"
    }
   ],
   "source": [
    "df_all_news.head()"
   ]
  },
  {
   "cell_type": "code",
   "execution_count": 139,
   "metadata": {},
   "outputs": [
    {
     "name": "stdout",
     "output_type": "stream",
     "text": [
      "top 50 words in fake news [('trump', 74446), ('said', 31151), ('president', 26356), ('people', 26099), ('one', 23830), ('would', 23461), ('state', 22072), ('clinton', 18723), ('like', 18213), ('obama', 17936), ('time', 17885), ('donald', 17243), ('american', 16095), ('republican', 16061), ('say', 15529), ('also', 15246), ('year', 14847), ('u', 14228), ('news', 14206), ('new', 14201), ('image', 13937), ('even', 13701), ('hillary', 13696), ('white', 13148), ('right', 12705), ('get', 12231), ('know', 11947), ('make', 11535), ('via', 11408), ('woman', 11208), ('medium', 11142), ('campaign', 11119), ('house', 10775), ('country', 10771), ('america', 10711), ('could', 10232), ('first', 10055), ('want', 9818), ('think', 9765), ('going', 9752), ('many', 9721), ('way', 9396), ('election', 9298), ('day', 9220), ('told', 9104), ('government', 9080), ('thing', 8963), ('video', 8906), ('us', 8757), ('made', 8667)]\n",
      "top 50 words in real news [('said', 99045), ('trump', 54355), ('us', 38955), ('state', 36275), ('would', 31528), ('reuters', 28412), ('president', 26998), ('republican', 22099), ('government', 19468), ('year', 18741), ('house', 16935), ('new', 16786), ('also', 15953), ('united', 15576), ('people', 15328), ('party', 14990), ('official', 14576), ('told', 14244), ('country', 14059), ('election', 13951), ('could', 13710), ('one', 13053), ('last', 12632), ('washington', 12431), ('two', 11625), ('campaign', 11112), ('group', 11108), ('former', 10601), ('leader', 10517), ('week', 10471), ('donald', 10453), ('security', 10408), ('court', 10355), ('percent', 9949), ('say', 9943), ('north', 9872), ('minister', 9542), ('clinton', 9518), ('white', 9502), ('law', 9287), ('tax', 9238), ('senate', 9221), ('obama', 9207), ('time', 9120), ('vote', 8999), ('month', 8756), ('china', 8593), ('first', 8566), ('national', 8535), ('statement', 8524)]\n"
     ]
    }
   ],
   "source": [
    "all_words_fakenews = list()\n",
    "for item in df_all_news[df_all_news['isFake']==1]['cleanupText']:\n",
    "    words = nltk.word_tokenize(item)\n",
    "    all_words_fakenews.extend(words)\n",
    "frequency_dict_fake = nltk.FreqDist(all_words_fakenews)\n",
    "all_words_realnews = list()\n",
    "for item in df_all_news[df_all_news['isFake']==0]['cleanupText']:\n",
    "    words = nltk.word_tokenize(item)\n",
    "    all_words_realnews.extend(words)\n",
    "frequency_dict_real = nltk.FreqDist(all_words_realnews)\n",
    "print('top 50 words in fake news',frequency_dict_fake.most_common(50))\n",
    "print('top 50 words in real news',frequency_dict_real.most_common(50))\n",
    "   "
   ]
  },
  {
   "cell_type": "code",
   "execution_count": 140,
   "metadata": {},
   "outputs": [
    {
     "data": {
      "text/plain": [
       "(-0.5, 399.5, 199.5, -0.5)"
      ]
     },
     "execution_count": 140,
     "metadata": {},
     "output_type": "execute_result"
    },
    {
     "data": {
      "image/png": "[encoded data removed]",
      "text/plain": [
       "<Figure size 432x288 with 1 Axes>"
      ]
     },
     "metadata": {
      "needs_background": "light"
     },
     "output_type": "display_data"
    }
   ],
   "source": [
    "from wordcloud import WordCloud\n",
    "import matplotlib.pyplot as plt\n",
    "fakecloud = WordCloud().generate_from_frequencies(frequency_dict_fake)\n",
    "plt.imshow(fakecloud)\n",
    "plt.axis('off')"
   ]
  },
  {
   "cell_type": "code",
   "execution_count": 141,
   "metadata": {},
   "outputs": [
    {
     "data": {
      "text/plain": [
       "(-0.5, 399.5, 199.5, -0.5)"
      ]
     },
     "execution_count": 141,
     "metadata": {},
     "output_type": "execute_result"
    },
    {
     "data": {
      "image/png": "[encoded data removed]",
      "text/plain": [
       "<Figure size 432x288 with 1 Axes>"
      ]
     },
     "metadata": {
      "needs_background": "light"
     },
     "output_type": "display_data"
    }
   ],
   "source": [
    "realcloud = WordCloud().generate_from_frequencies(frequency_dict_real)\n",
    "plt.imshow(realcloud)\n",
    "plt.axis('off')"
   ]
  },
  {
   "cell_type": "code",
   "execution_count": 51,
   "metadata": {},
   "outputs": [],
   "source": [
    "from sklearn.feature_extraction.text import TfidfVectorizer\n",
    "from sklearn.pipeline import Pipeline\n",
    "from sklearn.model_selection import GridSearchCV, train_test_split\n",
    "from sklearn import naive_bayes\n",
    "from sklearn.metrics import classification_report\n",
    "from sklearn import metrics\n",
    "\n",
    "import seaborn as sns     \n",
    "from sklearn.preprocessing import MinMaxScaler\n",
    "from sklearn.feature_selection import SelectKBest,chi2\n",
    "from sklearn.linear_model import SGDClassifier"
   ]
  },
  {
   "cell_type": "code",
   "execution_count": 52,
   "metadata": {},
   "outputs": [
    {
     "name": "stdout",
     "output_type": "stream",
     "text": [
      "train x:(35413,)\n",
      "test x:(8854,)\n",
      "train y:(35413,)\n",
      "test y:(8854,)\n"
     ]
    }
   ],
   "source": [
    "train_x, test_x, train_y, test_y  = train_test_split(df_all_news['text'],df_all_news['isFake'], test_size=0.2, random_state = 1)\n",
    "print('train x:' +str(train_x.shape))\n",
    "print('test x:' + str(test_x.shape))\n",
    "print('train y:' + str(train_y.shape))\n",
    "print('test y:'+ str(test_y.shape))"
   ]
  },
  {
   "cell_type": "code",
   "execution_count": 53,
   "metadata": {},
   "outputs": [],
   "source": [
    "def getScore(model, train_x,test_x,train_y,test_y):\n",
    "    model.fit(train_x, train_y)\n",
    "    train_score = model.score(train_x, train_y)\n",
    "    test_score = model.score(test_x, test_y)\n",
    "    print('training score:' + str(train_score))\n",
    "    print('testing score:' + str(test_score))"
   ]
  },
  {
   "cell_type": "code",
   "execution_count": 147,
   "metadata": {},
   "outputs": [
    {
     "name": "stdout",
     "output_type": "stream",
     "text": [
      "training score:0.944031852709457\n",
      "testing score:0.9393494465778179\n"
     ]
    }
   ],
   "source": [
    "model = Pipeline([\n",
    "    ('vect', TfidfVectorizer()),\n",
    "    ('clf', naive_bayes.MultinomialNB())\n",
    "])\n",
    "getScore(model,train_x, test_x, train_y, test_y)\n"
   ]
  },
  {
   "cell_type": "code",
   "execution_count": 151,
   "metadata": {},
   "outputs": [
    {
     "name": "stdout",
     "output_type": "stream",
     "text": [
      "training score:0.9811933470759325\n",
      "testing score:0.9661170092613508\n"
     ]
    }
   ],
   "source": [
    "parameters = {\n",
    "    'vect__ngram_range':[(1,1),(1,2),(1,3)],\n",
    "    'vect__use_idf':[True,False]\n",
    "             }\n",
    "grid = GridSearchCV(model, parameters)\n",
    "getScore(grid,train_x, test_x, train_y, test_y)\n",
    "\n"
   ]
  },
  {
   "cell_type": "code",
   "execution_count": 153,
   "metadata": {},
   "outputs": [
    {
     "name": "stdout",
     "output_type": "stream",
     "text": [
      "{'vect__ngram_range': (1, 3), 'vect__use_idf': True}\n"
     ]
    }
   ],
   "source": [
    "best_params = grid.best_params_\n",
    "print(best_params)"
   ]
  },
  {
   "cell_type": "code",
   "execution_count": 163,
   "metadata": {},
   "outputs": [],
   "source": [
    "grid_result = pd.DataFrame(grid.cv_results_)[['param_vect__ngram_range','param_vect__use_idf','mean_test_score','std_test_score',\n",
    "                                               'rank_test_score','mean_fit_time','mean_score_time']]"
   ]
  },
  {
   "cell_type": "code",
   "execution_count": 164,
   "metadata": {},
   "outputs": [
    {
     "name": "stdout",
     "output_type": "stream",
     "text": [
      "  param_vect__ngram_range param_vect__use_idf  mean_test_score  \\\n",
      "0                  (1, 1)                True         0.936238   \n",
      "1                  (1, 1)               False         0.940700   \n",
      "2                  (1, 2)                True         0.954706   \n",
      "3                  (1, 2)               False         0.949934   \n",
      "4                  (1, 3)                True         0.963319   \n",
      "5                  (1, 3)               False         0.955807   \n",
      "\n",
      "   std_test_score  rank_test_score  mean_fit_time  mean_score_time  \n",
      "0        0.002630                6      17.434729         4.310183  \n",
      "1        0.003176                5      15.301187         3.840882  \n",
      "2        0.003024                3      52.869752        10.597648  \n",
      "3        0.002779                4      50.309198        10.072329  \n",
      "4        0.002276                1     123.567844        17.559826  \n",
      "5        0.002654                2     115.426080        17.710696  \n"
     ]
    }
   ],
   "source": [
    "print(grid_result)"
   ]
  },
  {
   "cell_type": "code",
   "execution_count": 192,
   "metadata": {},
   "outputs": [
    {
     "name": "stdout",
     "output_type": "stream",
     "text": [
      "              precision    recall  f1-score   support\n",
      "\n",
      "        real       0.97      0.96      0.96      4296\n",
      "        fake       0.96      0.97      0.97      4558\n",
      "\n",
      "    accuracy                           0.97      8854\n",
      "   macro avg       0.97      0.97      0.97      8854\n",
      "weighted avg       0.97      0.97      0.97      8854\n",
      "\n"
     ]
    }
   ],
   "source": [
    "best_tf_model = grid.best_estimator_\n",
    "pred = best_tf_model.predict(test_x)\n",
    "\n",
    "labels = ['real','fake']\n",
    "tf_report = classification_report(test_y,pred,target_names=labels)\n",
    "print(tf_report)"
   ]
  },
  {
   "cell_type": "code",
   "execution_count": 199,
   "metadata": {},
   "outputs": [
    {
     "name": "stderr",
     "output_type": "stream",
     "text": [
      "C:\\Users\\share\\AppData\\Roaming\\Python\\Python38\\site-packages\\sklearn\\utils\\validation.py:70: FutureWarning: Pass labels=[0, 1] as keyword args. From version 1.0 (renaming of 0.25) passing these as positional arguments will result in an error\n",
      "  warnings.warn(f\"Pass {args_msg} as keyword args. From version \"\n"
     ]
    },
    {
     "name": "stdout",
     "output_type": "stream",
     "text": [
      "[[4114  182]\n",
      " [ 118 4440]]\n"
     ]
    },
    {
     "data": {
      "image/png": "[encoded data removed]",
      "text/plain": [
       "<Figure size 432x288 with 2 Axes>"
      ]
     },
     "metadata": {
      "needs_background": "light"
     },
     "output_type": "display_data"
    }
   ],
   "source": [
    "\n",
    "cm = metrics.confusion_matrix(test_y, pred, [0,1])\n",
    "print(cm)\n",
    "\n",
    "\n",
    "ax= plt.subplot()\n",
    "sns.heatmap(cm, annot=True, fmt='g', ax=ax);  #annot=True to annotate cells, ftm='g' to disable scientific notation\n",
    "\n",
    "# labels, title and ticks\n",
    "ax.set_xlabel('Predicted labels');ax.set_ylabel('True labels'); \n",
    "ax.set_title('Confusion Matrix'); \n",
    "ax.xaxis.set_ticklabels(['real', 'fake']); ax.yaxis.set_ticklabels(['real','fake']);"
   ]
  },
  {
   "cell_type": "code",
   "execution_count": 54,
   "metadata": {},
   "outputs": [
    {
     "name": "stdout",
     "output_type": "stream",
     "text": [
      "train x:(35413, 20)\n",
      "test x:(8854, 20)\n",
      "train y:(35413,)\n",
      "test y:(8854,)\n"
     ]
    }
   ],
   "source": [
    "#linguistic features\n",
    "train_x, test_x, train_y, test_y  = train_test_split(df_all_news[['numExclaimsInTitle','allCapsInTitle','titleWordCount',\n",
    "                                     'textWordCount','textSentenceCount','averageWordCountInSentence','readability','spellings_error',\n",
    "                                     'lexicalDiversity','NounCount','VerbCount','PronounCount','AdjectiveCount','ConjunctionCount','ModalCount',\n",
    "                                     'NumericCount','ProperNounCount','PastTenseCount','AdverbCount','ComparativeCount']],df_all_news['isFake'], test_size=0.2, random_state = 1)\n",
    "print('train x:' +str(train_x.shape))\n",
    "print('test x:' + str(test_x.shape))\n",
    "print('train y:' + str(train_y.shape))\n",
    "print('test y:'+ str(test_y.shape))"
   ]
  },
  {
   "cell_type": "code",
   "execution_count": 56,
   "metadata": {},
   "outputs": [
    {
     "name": "stdout",
     "output_type": "stream",
     "text": [
      "training score:0.6997147940022026\n",
      "testing score:0.7027332279195844\n"
     ]
    }
   ],
   "source": [
    "\n",
    "linguistic_model =  Pipeline([\n",
    "    ('scaler', MinMaxScaler()),\n",
    "    ('selector',SelectKBest(chi2)),\n",
    "    ('clf', naive_bayes.MultinomialNB())\n",
    "])\n",
    "getScore(linguistic_model,train_x, test_x, train_y, test_y)\n"
   ]
  },
  {
   "cell_type": "code",
   "execution_count": 57,
   "metadata": {},
   "outputs": [
    {
     "name": "stdout",
     "output_type": "stream",
     "text": [
      "training score:0.8838562109959619\n",
      "testing score:0.8837813417664333\n"
     ]
    }
   ],
   "source": [
    "linguistic_parameters = {\n",
    "    'selector__k':[10,15,20]\n",
    "             }\n",
    "linguistic_grid = GridSearchCV(linguistic_model, linguistic_parameters)\n",
    "getScore(linguistic_grid,train_x, test_x, train_y, test_y)"
   ]
  },
  {
   "cell_type": "code",
   "execution_count": 58,
   "metadata": {},
   "outputs": [
    {
     "name": "stdout",
     "output_type": "stream",
     "text": [
      "{'selector__k': 20}\n"
     ]
    }
   ],
   "source": [
    "linguistic_best_params = linguistic_grid.best_params_\n",
    "print(linguistic_best_params)"
   ]
  },
  {
   "cell_type": "code",
   "execution_count": 59,
   "metadata": {},
   "outputs": [],
   "source": [
    "linguistic_grid_result = pd.DataFrame(linguistic_grid.cv_results_)[['param_selector__k','mean_test_score','std_test_score',\n",
    "                                               'rank_test_score','mean_fit_time','mean_score_time']]"
   ]
  },
  {
   "cell_type": "code",
   "execution_count": 60,
   "metadata": {},
   "outputs": [
    {
     "name": "stdout",
     "output_type": "stream",
     "text": [
      "  param_selector__k  mean_test_score  std_test_score  rank_test_score  \\\n",
      "0                10         0.692712        0.004756                3   \n",
      "1                15         0.700929        0.003854                2   \n",
      "2                20         0.884026        0.000961                1   \n",
      "\n",
      "   mean_fit_time  mean_score_time  \n",
      "0       0.027727         0.001212  \n",
      "1       0.021897         0.003124  \n",
      "2       0.020504         0.009857  \n"
     ]
    }
   ],
   "source": [
    "print(linguistic_grid_result)"
   ]
  },
  {
   "cell_type": "code",
   "execution_count": 201,
   "metadata": {},
   "outputs": [],
   "source": [
    "\n",
    "linguistic_model = linguistic_grid.best_estimator_\n",
    "pred = linguistic_model.predict(test_x)"
   ]
  },
  {
   "cell_type": "code",
   "execution_count": 185,
   "metadata": {},
   "outputs": [
    {
     "name": "stdout",
     "output_type": "stream",
     "text": [
      "              precision    recall  f1-score   support\n",
      "\n",
      "        real       0.84      0.94      0.89      4296\n",
      "        fake       0.94      0.83      0.88      4558\n",
      "\n",
      "    accuracy                           0.88      8854\n",
      "   macro avg       0.89      0.89      0.88      8854\n",
      "weighted avg       0.89      0.88      0.88      8854\n",
      "\n"
     ]
    }
   ],
   "source": [
    "from sklearn.metrics import classification_report\n",
    "labels = ['real','fake']\n",
    "linguistic_report = classification_report(test_y,pred,target_names=labels)\n",
    "print(linguistic_report)\n"
   ]
  },
  {
   "cell_type": "code",
   "execution_count": 202,
   "metadata": {},
   "outputs": [
    {
     "name": "stderr",
     "output_type": "stream",
     "text": [
      "C:\\Users\\share\\AppData\\Roaming\\Python\\Python38\\site-packages\\sklearn\\utils\\validation.py:70: FutureWarning: Pass labels=[0, 1] as keyword args. From version 1.0 (renaming of 0.25) passing these as positional arguments will result in an error\n",
      "  warnings.warn(f\"Pass {args_msg} as keyword args. From version \"\n"
     ]
    },
    {
     "name": "stdout",
     "output_type": "stream",
     "text": [
      "[[4041  255]\n",
      " [ 774 3784]]\n"
     ]
    },
    {
     "data": {
      "image/png": "[encoded data removed]",
      "text/plain": [
       "<Figure size 432x288 with 2 Axes>"
      ]
     },
     "metadata": {
      "needs_background": "light"
     },
     "output_type": "display_data"
    }
   ],
   "source": [
    "cm = metrics.confusion_matrix(test_y, pred, [0,1])\n",
    "print(cm)\n",
    "\n",
    "ax= plt.subplot()\n",
    "sns.heatmap(cm, annot=True, fmt='g', ax=ax);  #annot=True to annotate cells, ftm='g' to disable scientific notation\n",
    "\n",
    "# labels, title and ticks\n",
    "ax.set_xlabel('Predicted labels');ax.set_ylabel('True labels'); \n",
    "ax.set_title('Confusion Matrix'); \n",
    "ax.xaxis.set_ticklabels(['real', 'fake']); ax.yaxis.set_ticklabels(['real','fake']);"
   ]
  },
  {
   "cell_type": "code",
   "execution_count": 59,
   "metadata": {},
   "outputs": [],
   "source": [
    "import textblob as tb\n",
    "\n",
    "df_all_news['subjectivity'] = df_all_news['cleanupText'].apply(lambda x: tb.TextBlob(x).sentiment.subjectivity)\n",
    "df_all_news['polarity'] = df_all_news['cleanupText'].apply(lambda x: tb.TextBlob(x).sentiment.polarity)"
   ]
  },
  {
   "cell_type": "code",
   "execution_count": 209,
   "metadata": {},
   "outputs": [
    {
     "name": "stdout",
     "output_type": "stream",
     "text": [
      "train x:(35413, 2)\n",
      "test x:(8854, 2)\n",
      "train y:(35413,)\n",
      "test y:(8854,)\n",
      "training score:0.5161663795781211\n",
      "testing score:0.5163767788570138\n"
     ]
    }
   ],
   "source": [
    "train_x, test_x, train_y, test_y  = train_test_split(df_all_news[['subjectivity','polarity']],df_all_news['isFake'], test_size=0.2, random_state = 0)\n",
    "print('train x:' +str(train_x.shape))\n",
    "print('test x:' + str(test_x.shape))\n",
    "print('train y:' + str(train_y.shape))\n",
    "print('test y:'+ str(test_y.shape))\n",
    "\n",
    "sentiment_model =  Pipeline([\n",
    "    ('scaler', MinMaxScaler()),\n",
    "    ('clf', naive_bayes.MultinomialNB())\n",
    "])\n",
    "getScore(sentiment_model,train_x, test_x, train_y, test_y)"
   ]
  },
  {
   "cell_type": "code",
   "execution_count": 217,
   "metadata": {},
   "outputs": [
    {
     "name": "stdout",
     "output_type": "stream",
     "text": [
      "train x:(35413, 22)\n",
      "test x:(8854, 22)\n",
      "train y:(35413,)\n",
      "test y:(8854,)\n"
     ]
    }
   ],
   "source": [
    "#linguistic + sentiment\n",
    "train_x, test_x, train_y, test_y  = train_test_split(df_all_news[['numExclaimsInTitle','allCapsInTitle','titleWordCount',\n",
    "                                     'textWordCount','textSentenceCount','averageWordCountInSentence','readability','spellings_error',\n",
    "                                     'lexicalDiversity','NounCount','VerbCount','PronounCount','AdjectiveCount','ConjunctionCount','ModalCount',\n",
    "                                     'NumericCount','ProperNounCount','PastTenseCount','AdverbCount','ComparativeCount','subjectivity','polarity']],df_all_news['isFake'], test_size=0.2, random_state = 1)\n",
    "print('train x:' +str(train_x.shape))\n",
    "print('test x:' + str(test_x.shape))\n",
    "print('train y:' + str(train_y.shape))\n",
    "print('test y:'+ str(test_y.shape))"
   ]
  },
  {
   "cell_type": "code",
   "execution_count": 218,
   "metadata": {},
   "outputs": [
    {
     "name": "stdout",
     "output_type": "stream",
     "text": [
      "training score:0.8878377996780843\n",
      "testing score:0.8846848881861306\n"
     ]
    }
   ],
   "source": [
    "linguistic_sentiment_model =  Pipeline([\n",
    "    ('scaler', MinMaxScaler()),\n",
    "    ('clf', naive_bayes.MultinomialNB())\n",
    "])\n",
    "getScore(linguistic_sentiment_model,train_x, test_x, train_y, test_y)"
   ]
  },
  {
   "cell_type": "code",
   "execution_count": 219,
   "metadata": {},
   "outputs": [],
   "source": [
    "pred = linguistic_sentiment_model.predict(test_x)"
   ]
  },
  {
   "cell_type": "code",
   "execution_count": 220,
   "metadata": {},
   "outputs": [
    {
     "name": "stdout",
     "output_type": "stream",
     "text": [
      "              precision    recall  f1-score   support\n",
      "\n",
      "        real       0.84      0.94      0.89      4296\n",
      "        fake       0.94      0.83      0.88      4558\n",
      "\n",
      "    accuracy                           0.88      8854\n",
      "   macro avg       0.89      0.89      0.88      8854\n",
      "weighted avg       0.89      0.88      0.88      8854\n",
      "\n",
      "[[4041  255]\n",
      " [ 766 3792]]\n"
     ]
    },
    {
     "name": "stderr",
     "output_type": "stream",
     "text": [
      "C:\\Users\\share\\AppData\\Roaming\\Python\\Python38\\site-packages\\sklearn\\utils\\validation.py:70: FutureWarning: Pass labels=[0, 1] as keyword args. From version 1.0 (renaming of 0.25) passing these as positional arguments will result in an error\n",
      "  warnings.warn(f\"Pass {args_msg} as keyword args. From version \"\n"
     ]
    },
    {
     "data": {
      "image/png": "[encoded data removed]",
      "text/plain": [
       "<Figure size 432x288 with 2 Axes>"
      ]
     },
     "metadata": {
      "needs_background": "light"
     },
     "output_type": "display_data"
    }
   ],
   "source": [
    "labels = ['real','fake']\n",
    "linguistic_sentiment_report = classification_report(test_y,pred,target_names=labels)\n",
    "print(linguistic_sentiment_report)\n",
    "cm = metrics.confusion_matrix(test_y, pred, [0,1])\n",
    "print(cm)\n",
    "\n",
    "ax= plt.subplot()\n",
    "sns.heatmap(cm, annot=True, fmt='g', ax=ax);  #annot=True to annotate cells, ftm='g' to disable scientific notation\n",
    "\n",
    "# labels, title and ticks\n",
    "ax.set_xlabel('Predicted labels');ax.set_ylabel('True labels'); \n",
    "ax.set_title('Confusion Matrix'); \n",
    "ax.xaxis.set_ticklabels(['real', 'fake']); ax.yaxis.set_ticklabels(['real','fake']);"
   ]
  },
  {
   "cell_type": "code",
   "execution_count": 276,
   "metadata": {},
   "outputs": [
    {
     "name": "stdout",
     "output_type": "stream",
     "text": [
      "training score:0.947759297433146\n",
      "testing score:0.9419471425344477\n"
     ]
    }
   ],
   "source": [
    "train_x, test_x, train_y, test_y  = train_test_split(df_all_news['text'],df_all_news['isFake'], test_size=0.2, random_state = 1)\n",
    "tf_naive_model = Pipeline([\n",
    "    ('vect', TfidfVectorizer(ngram_range=(1,3))),\n",
    "    ('clf', naive_bayes.MultinomialNB())\n",
    "])\n",
    "naive_parameters = {\n",
    "    'clf__alpha':[0.5,0.7,1]\n",
    "             }\n",
    "naive_tf_grid = GridSearchCV(tf_naive_model, naive_parameters)\n",
    "getScore(naive_tf_grid,train_x, test_x, train_y, test_y)\n",
    "best_params = naive_tf_grid.best_params_"
   ]
  },
  {
   "cell_type": "code",
   "execution_count": 279,
   "metadata": {},
   "outputs": [
    {
     "name": "stdout",
     "output_type": "stream",
     "text": [
      "{'clf__alpha': 0.5}\n",
      "  param_clf__alpha  mean_test_score  std_test_score  rank_test_score  \\\n",
      "0              0.5         0.937452        0.002931                1   \n",
      "1              0.7         0.936690        0.002939                2   \n",
      "2                1         0.936238        0.002630                3   \n",
      "\n",
      "   mean_fit_time  mean_score_time  \n",
      "0      17.014908         4.141881  \n",
      "1      17.006277         4.139370  \n",
      "2      17.231763         4.201598  \n"
     ]
    }
   ],
   "source": [
    "print(best_params)\n",
    "naive_tf_grid_result = pd.DataFrame(naive_tf_grid.cv_results_)[['param_clf__alpha','mean_test_score','std_test_score',\n",
    "                                               'rank_test_score','mean_fit_time','mean_score_time']]\n",
    "print(naive_tf_grid_result)"
   ]
  },
  {
   "cell_type": "code",
   "execution_count": 52,
   "metadata": {},
   "outputs": [],
   "source": [
    "def getClassificationReport(grid,text_x,test_y):\n",
    "    model = grid.best_estimator_\n",
    "    pred = model.predict(test_x)\n",
    "    labels = ['real','fake']\n",
    "    report = classification_report(test_y,pred,target_names=labels)\n",
    "    print(report)\n",
    "    cm = metrics.confusion_matrix(test_y, pred, [0,1])\n",
    "    print(cm)\n",
    "\n",
    "    ax= plt.subplot()\n",
    "    sns.heatmap(cm, annot=True, fmt='g', ax=ax);  #annot=True to annotate cells, ftm='g' to disable scientific notation\n",
    "\n",
    "    # labels, title and ticks\n",
    "    ax.set_xlabel('Predicted labels');ax.set_ylabel('True labels'); \n",
    "    ax.set_title('Confusion Matrix'); \n",
    "    ax.xaxis.set_ticklabels(['real', 'fake']); ax.yaxis.set_ticklabels(['real','fake']);\n",
    "    "
   ]
  },
  {
   "cell_type": "code",
   "execution_count": 282,
   "metadata": {},
   "outputs": [
    {
     "name": "stdout",
     "output_type": "stream",
     "text": [
      "              precision    recall  f1-score   support\n",
      "\n",
      "        real       0.94      0.94      0.94      4296\n",
      "        fake       0.94      0.95      0.94      4558\n",
      "\n",
      "    accuracy                           0.94      8854\n",
      "   macro avg       0.94      0.94      0.94      8854\n",
      "weighted avg       0.94      0.94      0.94      8854\n",
      "\n",
      "[[4020  276]\n",
      " [ 238 4320]]\n"
     ]
    },
    {
     "name": "stderr",
     "output_type": "stream",
     "text": [
      "C:\\Users\\share\\AppData\\Roaming\\Python\\Python38\\site-packages\\sklearn\\utils\\validation.py:70: FutureWarning: Pass labels=[0, 1] as keyword args. From version 1.0 (renaming of 0.25) passing these as positional arguments will result in an error\n",
      "  warnings.warn(f\"Pass {args_msg} as keyword args. From version \"\n"
     ]
    },
    {
     "data": {
      "image/png": "[encoded data removed]",
      "text/plain": [
       "<Figure size 432x288 with 2 Axes>"
      ]
     },
     "metadata": {
      "needs_background": "light"
     },
     "output_type": "display_data"
    }
   ],
   "source": [
    "getClassificationReport(naive_tf_grid,test_x,test_y)"
   ]
  },
  {
   "cell_type": "code",
   "execution_count": 76,
   "metadata": {},
   "outputs": [
    {
     "name": "stdout",
     "output_type": "stream",
     "text": [
      "training score:0.9998588089119814\n",
      "testing score:0.9922069121301107\n",
      "  param_clf__C  mean_test_score  std_test_score  rank_test_score  \\\n",
      "0          0.1         0.965154        0.001073                3   \n",
      "1            1         0.981250        0.000423                2   \n",
      "2           10         0.989100        0.000519                1   \n",
      "\n",
      "   mean_fit_time  mean_score_time  \n",
      "0     138.615657        34.365825  \n",
      "1     169.000136        32.680727  \n",
      "2     173.524569        33.169159  \n"
     ]
    }
   ],
   "source": [
    "train_x, test_x, train_y, test_y  = train_test_split(df_all_news['text'],df_all_news['isFake'], test_size=0.2, random_state = 1)\n",
    "from sklearn.linear_model import LogisticRegression\n",
    "tf_logistic_model = Pipeline([\n",
    "    ('vect', TfidfVectorizer(ngram_range=(1,3))),\n",
    "    ('clf', LogisticRegression())\n",
    "])\n",
    "\n",
    "logistic_params = {\n",
    "    'clf__C':[0.1,1,10]\n",
    "             \n",
    "}\n",
    "\n",
    "   \n",
    "logistic_tf_grid = GridSearchCV(tf_logistic_model, logistic_params,cv=3)\n",
    "getScore(logistic_tf_grid,train_x, test_x, train_y, test_y)\n",
    "best_params = logistic_tf_grid.best_params_\n",
    "logistic_tf_grid_result = pd.DataFrame(logistic_tf_grid.cv_results_)[['param_clf__C','mean_test_score','std_test_score',\n",
    "                                               'rank_test_score','mean_fit_time','mean_score_time']]\n",
    "print(logistic_tf_grid_result)\n"
   ]
  },
  {
   "cell_type": "code",
   "execution_count": 55,
   "metadata": {},
   "outputs": [
    {
     "name": "stdout",
     "output_type": "stream",
     "text": [
      "              precision    recall  f1-score   support\n",
      "\n",
      "        real       0.99      0.99      0.99      4296\n",
      "        fake       0.99      0.99      0.99      4558\n",
      "\n",
      "    accuracy                           0.99      8854\n",
      "   macro avg       0.99      0.99      0.99      8854\n",
      "weighted avg       0.99      0.99      0.99      8854\n",
      "\n",
      "[[4265   31]\n",
      " [  38 4520]]\n"
     ]
    },
    {
     "name": "stderr",
     "output_type": "stream",
     "text": [
      "C:\\Users\\share\\AppData\\Roaming\\Python\\Python38\\site-packages\\sklearn\\utils\\validation.py:70: FutureWarning: Pass labels=[0, 1] as keyword args. From version 1.0 (renaming of 0.25) passing these as positional arguments will result in an error\n",
      "  warnings.warn(f\"Pass {args_msg} as keyword args. From version \"\n"
     ]
    },
    {
     "data": {
      "image/png": "[encoded data removed]",
      "text/plain": [
       "<Figure size 432x288 with 2 Axes>"
      ]
     },
     "metadata": {
      "needs_background": "light"
     },
     "output_type": "display_data"
    }
   ],
   "source": [
    "import matplotlib.pyplot as plt\n",
    "getClassificationReport(logistic_tf_grid,test_x,test_y)"
   ]
  },
  {
   "cell_type": "code",
   "execution_count": 56,
   "metadata": {},
   "outputs": [
    {
     "name": "stdout",
     "output_type": "stream",
     "text": [
      "training score:0.9999717617823963\n",
      "testing score:0.9975152473458324\n",
      "  param_clf__criterion param_clf__max_depth  mean_test_score  std_test_score  \\\n",
      "0                 gini                   10         0.996160        0.000787   \n",
      "1                 gini                   20         0.996103        0.000553   \n",
      "2                 gini                   30         0.996640        0.000211   \n",
      "3              entropy                   10         0.995934        0.000667   \n",
      "4              entropy                   20         0.995849        0.000599   \n",
      "5              entropy                   30         0.995849        0.000599   \n",
      "\n",
      "   rank_test_score  mean_fit_time  mean_score_time  \n",
      "0                2     197.441119        28.712601  \n",
      "1                3     264.783095        27.175078  \n",
      "2                1     164.351037        15.641570  \n",
      "3                4     166.766093        21.256617  \n",
      "4                5     178.657147        20.155299  \n",
      "5                5     130.751975        14.376711  \n",
      "              precision    recall  f1-score   support\n",
      "\n",
      "        real       1.00      1.00      1.00      4296\n",
      "        fake       1.00      1.00      1.00      4558\n",
      "\n",
      "    accuracy                           1.00      8854\n",
      "   macro avg       1.00      1.00      1.00      8854\n",
      "weighted avg       1.00      1.00      1.00      8854\n",
      "\n",
      "[[4283   13]\n",
      " [   9 4549]]\n"
     ]
    },
    {
     "name": "stderr",
     "output_type": "stream",
     "text": [
      "C:\\Users\\share\\AppData\\Roaming\\Python\\Python38\\site-packages\\sklearn\\utils\\validation.py:70: FutureWarning: Pass labels=[0, 1] as keyword args. From version 1.0 (renaming of 0.25) passing these as positional arguments will result in an error\n",
      "  warnings.warn(f\"Pass {args_msg} as keyword args. From version \"\n"
     ]
    },
    {
     "data": {
      "image/png": "[encoded data removed]",
      "text/plain": [
       "<Figure size 432x288 with 2 Axes>"
      ]
     },
     "metadata": {
      "needs_background": "light"
     },
     "output_type": "display_data"
    }
   ],
   "source": [
    "from sklearn import tree\n",
    "tf_decision_model = Pipeline([\n",
    "    ('vect', TfidfVectorizer(ngram_range=(1,3))),\n",
    "    ('clf', tree.DecisionTreeClassifier())\n",
    "])\n",
    "\n",
    "decision_params = {\n",
    "    'clf__criterion':['gini','entropy'],\n",
    "    'clf__max_depth':[10,20,30]\n",
    "             \n",
    "}\n",
    "\n",
    "decision_tf_grid = GridSearchCV(tf_decision_model, decision_params,cv=3)\n",
    "getScore(decision_tf_grid,train_x, test_x, train_y, test_y)\n",
    "best_params = decision_tf_grid.best_params_\n",
    "decision_tf_grid_result = pd.DataFrame(decision_tf_grid.cv_results_)[['param_clf__criterion','param_clf__max_depth','mean_test_score','std_test_score',\n",
    "                                               'rank_test_score','mean_fit_time','mean_score_time']]\n",
    "print(decision_tf_grid_result)\n",
    "getClassificationReport(decision_tf_grid,test_x,test_y)"
   ]
  },
  {
   "cell_type": "code",
   "execution_count": 57,
   "metadata": {},
   "outputs": [
    {
     "name": "stdout",
     "output_type": "stream",
     "text": [
      "training score:0.9828594019145511\n",
      "testing score:0.9643099164219562\n",
      "  param_clf__criterion param_clf__max_depth  mean_test_score  std_test_score  \\\n",
      "0                 gini                   10         0.950640        0.008090   \n",
      "1                 gini                   20         0.965069        0.001301   \n",
      "2                 gini                   30         0.972778        0.002475   \n",
      "3              entropy                   10         0.945444        0.001450   \n",
      "4              entropy                   20         0.970293        0.001282   \n",
      "5              entropy                   30         0.968317        0.001097   \n",
      "\n",
      "   rank_test_score  mean_fit_time  mean_score_time  \n",
      "0                5      63.256630        32.539955  \n",
      "1                4      80.946529        31.427184  \n",
      "2                1     101.037195        31.557189  \n",
      "3                6      64.064318        30.657297  \n",
      "4                2      75.072986        28.663463  \n",
      "5                3      89.204869        27.586966  \n",
      "              precision    recall  f1-score   support\n",
      "\n",
      "        real       0.96      0.97      0.96      4296\n",
      "        fake       0.97      0.96      0.97      4558\n",
      "\n",
      "    accuracy                           0.96      8854\n",
      "   macro avg       0.96      0.96      0.96      8854\n",
      "weighted avg       0.96      0.96      0.96      8854\n",
      "\n",
      "[[4160  136]\n",
      " [ 180 4378]]\n"
     ]
    },
    {
     "name": "stderr",
     "output_type": "stream",
     "text": [
      "C:\\Users\\share\\AppData\\Roaming\\Python\\Python38\\site-packages\\sklearn\\utils\\validation.py:70: FutureWarning: Pass labels=[0, 1] as keyword args. From version 1.0 (renaming of 0.25) passing these as positional arguments will result in an error\n",
      "  warnings.warn(f\"Pass {args_msg} as keyword args. From version \"\n"
     ]
    },
    {
     "data": {
      "image/png": "[encoded data removed]",
      "text/plain": [
       "<Figure size 432x288 with 2 Axes>"
      ]
     },
     "metadata": {
      "needs_background": "light"
     },
     "output_type": "display_data"
    }
   ],
   "source": [
    "from sklearn.ensemble import RandomForestClassifier\n",
    "tf_random_model = Pipeline([\n",
    "    ('vect', TfidfVectorizer(ngram_range=(1,3))),\n",
    "    ('clf', RandomForestClassifier())\n",
    "])\n",
    "\n",
    "random_params = {\n",
    "    'clf__criterion':['gini','entropy'],\n",
    "    'clf__max_depth':[10,20,30]\n",
    "             \n",
    "}\n",
    "\n",
    "random_tf_grid = GridSearchCV(tf_random_model, random_params,cv=3)\n",
    "getScore(random_tf_grid,train_x, test_x, train_y, test_y)\n",
    "best_params = random_tf_grid.best_params_\n",
    "random_tf_grid_result = pd.DataFrame(random_tf_grid.cv_results_)[['param_clf__criterion','param_clf__max_depth','mean_test_score','std_test_score',\n",
    "                                               'rank_test_score','mean_fit_time','mean_score_time']]\n",
    "print(random_tf_grid_result)\n",
    "getClassificationReport(random_tf_grid,test_x,test_y)"
   ]
  },
  {
   "cell_type": "code",
   "execution_count": 77,
   "metadata": {},
   "outputs": [
    {
     "name": "stdout",
     "output_type": "stream",
     "text": [
      "training score:1.0\n",
      "testing score:0.9948046080867404\n"
     ]
    }
   ],
   "source": [
    "from sklearn.svm import LinearSVC\n",
    "tf_linearSVC_model = Pipeline([\n",
    "    ('vect', TfidfVectorizer(ngram_range=(1,3))),\n",
    "    ('clf', LinearSVC())\n",
    "])\n",
    "\n",
    "linearSVC_params = {\n",
    "    'clf__C':[0.1,1,10] \n",
    "             \n",
    "}\n",
    "\n",
    "   \n",
    "linearSVC_tf_grid = GridSearchCV(tf_linearSVC_model, linearSVC_params)\n",
    "getScore(linearSVC_tf_grid,train_x, test_x, train_y, test_y)\n",
    "best_params = linearSVC_tf_grid.best_params_\n"
   ]
  },
  {
   "cell_type": "code",
   "execution_count": 296,
   "metadata": {},
   "outputs": [
    {
     "name": "stdout",
     "output_type": "stream",
     "text": [
      "  param_clf__C  mean_test_score  std_test_score  rank_test_score  \\\n",
      "0          0.1         0.986304        0.000726                3   \n",
      "1            1         0.992658        0.000489                2   \n",
      "2           10         0.993533        0.000588                1   \n",
      "\n",
      "   mean_fit_time  mean_score_time  \n",
      "0     130.864672        18.909159  \n",
      "1     137.608356        18.799690  \n",
      "2     176.660813        18.206113  \n",
      "              precision    recall  f1-score   support\n",
      "\n",
      "        real       0.99      1.00      0.99      4296\n",
      "        fake       1.00      0.99      0.99      4558\n",
      "\n",
      "    accuracy                           0.99      8854\n",
      "   macro avg       0.99      0.99      0.99      8854\n",
      "weighted avg       0.99      0.99      0.99      8854\n",
      "\n",
      "[[4282   14]\n",
      " [  32 4526]]\n"
     ]
    },
    {
     "name": "stderr",
     "output_type": "stream",
     "text": [
      "C:\\Users\\share\\AppData\\Roaming\\Python\\Python38\\site-packages\\sklearn\\utils\\validation.py:70: FutureWarning: Pass labels=[0, 1] as keyword args. From version 1.0 (renaming of 0.25) passing these as positional arguments will result in an error\n",
      "  warnings.warn(f\"Pass {args_msg} as keyword args. From version \"\n"
     ]
    },
    {
     "data": {
      "image/png": "[encoded data removed]",
      "text/plain": [
       "<Figure size 432x288 with 2 Axes>"
      ]
     },
     "metadata": {
      "needs_background": "light"
     },
     "output_type": "display_data"
    }
   ],
   "source": [
    "linearSVC_tf_grid_result = pd.DataFrame(linearSVC_tf_grid.cv_results_)[['param_clf__C','mean_test_score','std_test_score',\n",
    "                                               'rank_test_score','mean_fit_time','mean_score_time']]\n",
    "print(linearSVC_tf_grid_result)\n",
    "getClassificationReport(linearSVC_tf_grid,test_x,test_y)"
   ]
  },
  {
   "cell_type": "code",
   "execution_count": 293,
   "metadata": {},
   "outputs": [
    {
     "name": "stdout",
     "output_type": "stream",
     "text": [
      "training score:0.9966961285403665\n",
      "testing score:0.9907386491981025\n",
      "  param_clf__alpha  mean_test_score  std_test_score  rank_test_score  \\\n",
      "0           0.0001         0.990371        0.000671                1   \n",
      "1           0.0010         0.965493        0.001321                2   \n",
      "2           0.1000         0.516957        0.000771                3   \n",
      "\n",
      "   mean_fit_time  mean_score_time  \n",
      "0     134.747392        19.670735  \n",
      "1     112.735241        18.608666  \n",
      "2     118.839315        16.582210  \n",
      "              precision    recall  f1-score   support\n",
      "\n",
      "        real       0.99      0.99      0.99      4296\n",
      "        fake       0.99      0.99      0.99      4558\n",
      "\n",
      "    accuracy                           0.99      8854\n",
      "   macro avg       0.99      0.99      0.99      8854\n",
      "weighted avg       0.99      0.99      0.99      8854\n",
      "\n",
      "[[4265   31]\n",
      " [  51 4507]]\n"
     ]
    },
    {
     "name": "stderr",
     "output_type": "stream",
     "text": [
      "C:\\Users\\share\\AppData\\Roaming\\Python\\Python38\\site-packages\\sklearn\\utils\\validation.py:70: FutureWarning: Pass labels=[0, 1] as keyword args. From version 1.0 (renaming of 0.25) passing these as positional arguments will result in an error\n",
      "  warnings.warn(f\"Pass {args_msg} as keyword args. From version \"\n"
     ]
    },
    {
     "data": {
      "image/png": "[encoded data removed]",
      "text/plain": [
       "<Figure size 432x288 with 2 Axes>"
      ]
     },
     "metadata": {
      "needs_background": "light"
     },
     "output_type": "display_data"
    }
   ],
   "source": [
    "from sklearn.linear_model import SGDClassifier\n",
    "tf_sgd_model = Pipeline([\n",
    "    ('vect', TfidfVectorizer(ngram_range=(1,3))),\n",
    "    ('clf', SGDClassifier())\n",
    "])\n",
    "\n",
    "sgd_params = {\n",
    "    'clf__alpha':[0.0001,0.001,0.1]\n",
    "             \n",
    "}\n",
    "\n",
    "   \n",
    "sgd_tf_grid = GridSearchCV(tf_sgd_model, sgd_params)\n",
    "getScore(sgd_tf_grid,train_x, test_x, train_y, test_y)\n",
    "best_params = sgd_tf_grid.best_params_\n",
    "sgd_tf_grid_result = pd.DataFrame(sgd_tf_grid.cv_results_)[['param_clf__alpha','mean_test_score','std_test_score',\n",
    "                                               'rank_test_score','mean_fit_time','mean_score_time']]\n",
    "print(sgd_tf_grid_result)\n",
    "getClassificationReport(sgd_tf_grid,test_x,test_y)"
   ]
  },
  {
   "cell_type": "code",
   "execution_count": 60,
   "metadata": {},
   "outputs": [],
   "source": [
    "train_x, test_x, train_y, test_y  = train_test_split(df_all_news[['numExclaimsInTitle','allCapsInTitle','titleWordCount',\n",
    "                                     'textWordCount','textSentenceCount','averageWordCountInSentence','readability','spellings_error',\n",
    "                                     'lexicalDiversity','NounCount','VerbCount','PronounCount','AdjectiveCount','ConjunctionCount','ModalCount',\n",
    "                                     'NumericCount','ProperNounCount','PastTenseCount','AdverbCount','ComparativeCount','subjectivity','polarity']],df_all_news['isFake'], test_size=0.2, random_state = 1)"
   ]
  },
  {
   "cell_type": "code",
   "execution_count": 61,
   "metadata": {},
   "outputs": [
    {
     "name": "stdout",
     "output_type": "stream",
     "text": [
      "training score:0.8878377996780843\n",
      "testing score:0.8845719448836684\n",
      "  param_clf__alpha  mean_test_score  std_test_score  rank_test_score  \\\n",
      "0              0.5         0.887922        0.001979                1   \n",
      "1              0.7         0.887922        0.002003                1   \n",
      "2                1         0.887922        0.001985                1   \n",
      "\n",
      "   mean_fit_time  mean_score_time  \n",
      "0       0.046653         0.002194  \n",
      "1       0.039102         0.003152  \n",
      "2       0.045580         0.006434  \n",
      "              precision    recall  f1-score   support\n",
      "\n",
      "        real       0.84      0.94      0.89      4296\n",
      "        fake       0.94      0.83      0.88      4558\n",
      "\n",
      "    accuracy                           0.88      8854\n",
      "   macro avg       0.89      0.89      0.88      8854\n",
      "weighted avg       0.89      0.88      0.88      8854\n",
      "\n",
      "[[4040  256]\n",
      " [ 766 3792]]\n"
     ]
    },
    {
     "name": "stderr",
     "output_type": "stream",
     "text": [
      "C:\\Users\\share\\AppData\\Roaming\\Python\\Python38\\site-packages\\sklearn\\utils\\validation.py:70: FutureWarning: Pass labels=[0, 1] as keyword args. From version 1.0 (renaming of 0.25) passing these as positional arguments will result in an error\n",
      "  warnings.warn(f\"Pass {args_msg} as keyword args. From version \"\n"
     ]
    },
    {
     "data": {
      "image/png": "[encoded data removed]",
      "text/plain": [
       "<Figure size 432x288 with 2 Axes>"
      ]
     },
     "metadata": {
      "needs_background": "light"
     },
     "output_type": "display_data"
    }
   ],
   "source": [
    "linguistic_naive_model =  Pipeline([\n",
    "    ('scaler', MinMaxScaler()),\n",
    "    ('clf', naive_bayes.MultinomialNB())\n",
    "])\n",
    "naive_parameters = {\n",
    "    'clf__alpha':[0.5,0.7,1]\n",
    "             }\n",
    "naive_linguistic_grid = GridSearchCV(linguistic_naive_model, naive_parameters)\n",
    "getScore(naive_linguistic_grid,train_x, test_x, train_y, test_y)\n",
    "best_params = naive_linguistic_grid.best_params_\n",
    "naive_linguistic_grid_result = pd.DataFrame(naive_linguistic_grid.cv_results_)[['param_clf__alpha','mean_test_score','std_test_score',\n",
    "                                               'rank_test_score','mean_fit_time','mean_score_time']]\n",
    "print(naive_linguistic_grid_result)\n",
    "getClassificationReport(naive_linguistic_grid,test_x,test_y)"
   ]
  },
  {
   "cell_type": "code",
   "execution_count": 63,
   "metadata": {},
   "outputs": [
    {
     "name": "stdout",
     "output_type": "stream",
     "text": [
      "training score:0.9258182023550674\n",
      "testing score:0.9260221368872826\n",
      "  param_clf__alpha  mean_test_score  std_test_score  rank_test_score  \\\n",
      "0           0.0001         0.918335        0.008503                1   \n",
      "1           0.0010         0.905854        0.002629                2   \n",
      "2           0.1000         0.516562        0.000033                3   \n",
      "\n",
      "   mean_fit_time  mean_score_time  \n",
      "0       0.069545         0.009357  \n",
      "1       0.056230         0.006270  \n",
      "2       0.064611         0.003124  \n",
      "              precision    recall  f1-score   support\n",
      "\n",
      "        real       0.89      0.96      0.93      4296\n",
      "        fake       0.96      0.89      0.93      4558\n",
      "\n",
      "    accuracy                           0.93      8854\n",
      "   macro avg       0.93      0.93      0.93      8854\n",
      "weighted avg       0.93      0.93      0.93      8854\n",
      "\n",
      "[[4132  164]\n",
      " [ 491 4067]]\n"
     ]
    },
    {
     "name": "stderr",
     "output_type": "stream",
     "text": [
      "C:\\Users\\share\\AppData\\Roaming\\Python\\Python38\\site-packages\\sklearn\\utils\\validation.py:70: FutureWarning: Pass labels=[0, 1] as keyword args. From version 1.0 (renaming of 0.25) passing these as positional arguments will result in an error\n",
      "  warnings.warn(f\"Pass {args_msg} as keyword args. From version \"\n"
     ]
    },
    {
     "data": {
      "image/png": "[encoded data removed]",
      "text/plain": [
       "<Figure size 432x288 with 2 Axes>"
      ]
     },
     "metadata": {
      "needs_background": "light"
     },
     "output_type": "display_data"
    }
   ],
   "source": [
    "linguistic_sgd_model =  Pipeline([\n",
    "    ('scaler', MinMaxScaler()),\n",
    "    ('clf', SGDClassifier())\n",
    "])\n",
    "sgd_params = {\n",
    "    'clf__alpha':[0.0001,0.001,0.1]\n",
    "             \n",
    "}\n",
    "\n",
    "sgd_linguistic_grid = GridSearchCV(linguistic_sgd_model, sgd_params)\n",
    "getScore(sgd_linguistic_grid,train_x, test_x, train_y, test_y)\n",
    "best_params = sgd_linguistic_grid.best_params_\n",
    "sgd_linguistic_grid_result = pd.DataFrame(sgd_linguistic_grid.cv_results_)[['param_clf__alpha','mean_test_score','std_test_score',\n",
    "                                               'rank_test_score','mean_fit_time','mean_score_time']]\n",
    "print(sgd_linguistic_grid_result)\n",
    "getClassificationReport(sgd_linguistic_grid,test_x,test_y)"
   ]
  },
  {
   "cell_type": "code",
   "execution_count": 66,
   "metadata": {},
   "outputs": [
    {
     "name": "stderr",
     "output_type": "stream",
     "text": [
      "C:\\Users\\share\\AppData\\Roaming\\Python\\Python38\\site-packages\\sklearn\\svm\\_base.py:985: ConvergenceWarning: Liblinear failed to converge, increase the number of iterations.\n",
      "  warnings.warn(\"Liblinear failed to converge, increase \"\n",
      "C:\\Users\\share\\AppData\\Roaming\\Python\\Python38\\site-packages\\sklearn\\svm\\_base.py:985: ConvergenceWarning: Liblinear failed to converge, increase the number of iterations.\n",
      "  warnings.warn(\"Liblinear failed to converge, increase \"\n",
      "C:\\Users\\share\\AppData\\Roaming\\Python\\Python38\\site-packages\\sklearn\\svm\\_base.py:985: ConvergenceWarning: Liblinear failed to converge, increase the number of iterations.\n",
      "  warnings.warn(\"Liblinear failed to converge, increase \"\n",
      "C:\\Users\\share\\AppData\\Roaming\\Python\\Python38\\site-packages\\sklearn\\svm\\_base.py:985: ConvergenceWarning: Liblinear failed to converge, increase the number of iterations.\n",
      "  warnings.warn(\"Liblinear failed to converge, increase \"\n",
      "C:\\Users\\share\\AppData\\Roaming\\Python\\Python38\\site-packages\\sklearn\\svm\\_base.py:985: ConvergenceWarning: Liblinear failed to converge, increase the number of iterations.\n",
      "  warnings.warn(\"Liblinear failed to converge, increase \"\n",
      "C:\\Users\\share\\AppData\\Roaming\\Python\\Python38\\site-packages\\sklearn\\svm\\_base.py:985: ConvergenceWarning: Liblinear failed to converge, increase the number of iterations.\n",
      "  warnings.warn(\"Liblinear failed to converge, increase \"\n",
      "C:\\Users\\share\\AppData\\Roaming\\Python\\Python38\\site-packages\\sklearn\\utils\\validation.py:70: FutureWarning: Pass labels=[0, 1] as keyword args. From version 1.0 (renaming of 0.25) passing these as positional arguments will result in an error\n",
      "  warnings.warn(f\"Pass {args_msg} as keyword args. From version \"\n"
     ]
    },
    {
     "name": "stdout",
     "output_type": "stream",
     "text": [
      "training score:0.9377347301838308\n",
      "testing score:0.9378811836458099\n",
      "  param_clf__C  mean_test_score  std_test_score  rank_test_score  \\\n",
      "0          0.1         0.927060        0.004386                3   \n",
      "1            1         0.936040        0.003629                2   \n",
      "2           10         0.937565        0.003163                1   \n",
      "\n",
      "   mean_fit_time  mean_score_time  \n",
      "0       0.094138         0.015618  \n",
      "1       0.359965         0.005784  \n",
      "2       1.639979         0.012475  \n",
      "              precision    recall  f1-score   support\n",
      "\n",
      "        real       0.92      0.96      0.94      4296\n",
      "        fake       0.96      0.92      0.94      4558\n",
      "\n",
      "    accuracy                           0.94      8854\n",
      "   macro avg       0.94      0.94      0.94      8854\n",
      "weighted avg       0.94      0.94      0.94      8854\n",
      "\n",
      "[[4112  184]\n",
      " [ 366 4192]]\n"
     ]
    },
    {
     "data": {
      "image/png": "[encoded data removed]",
      "text/plain": [
       "<Figure size 432x288 with 2 Axes>"
      ]
     },
     "metadata": {
      "needs_background": "light"
     },
     "output_type": "display_data"
    }
   ],
   "source": [
    "from sklearn.svm import LinearSVC\n",
    "linguistic_linearSVC_model =  Pipeline([\n",
    "    ('scaler', MinMaxScaler()),\n",
    "    ('clf', LinearSVC())\n",
    "])\n",
    "linearSVC_params = {\n",
    "    'clf__C':[0.1,1,10] \n",
    "             \n",
    "}\n",
    "\n",
    "linearSVC_linguistic_grid = GridSearchCV(linguistic_linearSVC_model, linearSVC_params)\n",
    "getScore(linearSVC_linguistic_grid,train_x, test_x, train_y, test_y)\n",
    "best_params = linearSVC_linguistic_grid.best_params_\n",
    "linearSVC_linguistic_grid_result = pd.DataFrame(linearSVC_linguistic_grid.cv_results_)[['param_clf__C','mean_test_score','std_test_score',\n",
    "                                               'rank_test_score','mean_fit_time','mean_score_time']]\n",
    "print(linearSVC_linguistic_grid_result)\n",
    "getClassificationReport(linearSVC_linguistic_grid,test_x,test_y)"
   ]
  },
  {
   "cell_type": "code",
   "execution_count": 68,
   "metadata": {},
   "outputs": [
    {
     "name": "stderr",
     "output_type": "stream",
     "text": [
      "C:\\Users\\share\\AppData\\Roaming\\Python\\Python38\\site-packages\\sklearn\\linear_model\\_logistic.py:763: ConvergenceWarning: lbfgs failed to converge (status=1):\n",
      "STOP: TOTAL NO. of ITERATIONS REACHED LIMIT.\n",
      "\n",
      "Increase the number of iterations (max_iter) or scale the data as shown in:\n",
      "    https://scikit-learn.org/stable/modules/preprocessing.html\n",
      "Please also refer to the documentation for alternative solver options:\n",
      "    https://scikit-learn.org/stable/modules/linear_model.html#logistic-regression\n",
      "  n_iter_i = _check_optimize_result(\n",
      "C:\\Users\\share\\AppData\\Roaming\\Python\\Python38\\site-packages\\sklearn\\linear_model\\_logistic.py:763: ConvergenceWarning: lbfgs failed to converge (status=1):\n",
      "STOP: TOTAL NO. of ITERATIONS REACHED LIMIT.\n",
      "\n",
      "Increase the number of iterations (max_iter) or scale the data as shown in:\n",
      "    https://scikit-learn.org/stable/modules/preprocessing.html\n",
      "Please also refer to the documentation for alternative solver options:\n",
      "    https://scikit-learn.org/stable/modules/linear_model.html#logistic-regression\n",
      "  n_iter_i = _check_optimize_result(\n",
      "C:\\Users\\share\\AppData\\Roaming\\Python\\Python38\\site-packages\\sklearn\\linear_model\\_logistic.py:763: ConvergenceWarning: lbfgs failed to converge (status=1):\n",
      "STOP: TOTAL NO. of ITERATIONS REACHED LIMIT.\n",
      "\n",
      "Increase the number of iterations (max_iter) or scale the data as shown in:\n",
      "    https://scikit-learn.org/stable/modules/preprocessing.html\n",
      "Please also refer to the documentation for alternative solver options:\n",
      "    https://scikit-learn.org/stable/modules/linear_model.html#logistic-regression\n",
      "  n_iter_i = _check_optimize_result(\n",
      "C:\\Users\\share\\AppData\\Roaming\\Python\\Python38\\site-packages\\sklearn\\linear_model\\_logistic.py:763: ConvergenceWarning: lbfgs failed to converge (status=1):\n",
      "STOP: TOTAL NO. of ITERATIONS REACHED LIMIT.\n",
      "\n",
      "Increase the number of iterations (max_iter) or scale the data as shown in:\n",
      "    https://scikit-learn.org/stable/modules/preprocessing.html\n",
      "Please also refer to the documentation for alternative solver options:\n",
      "    https://scikit-learn.org/stable/modules/linear_model.html#logistic-regression\n",
      "  n_iter_i = _check_optimize_result(\n",
      "C:\\Users\\share\\AppData\\Roaming\\Python\\Python38\\site-packages\\sklearn\\linear_model\\_logistic.py:763: ConvergenceWarning: lbfgs failed to converge (status=1):\n",
      "STOP: TOTAL NO. of ITERATIONS REACHED LIMIT.\n",
      "\n",
      "Increase the number of iterations (max_iter) or scale the data as shown in:\n",
      "    https://scikit-learn.org/stable/modules/preprocessing.html\n",
      "Please also refer to the documentation for alternative solver options:\n",
      "    https://scikit-learn.org/stable/modules/linear_model.html#logistic-regression\n",
      "  n_iter_i = _check_optimize_result(\n",
      "C:\\Users\\share\\AppData\\Roaming\\Python\\Python38\\site-packages\\sklearn\\linear_model\\_logistic.py:763: ConvergenceWarning: lbfgs failed to converge (status=1):\n",
      "STOP: TOTAL NO. of ITERATIONS REACHED LIMIT.\n",
      "\n",
      "Increase the number of iterations (max_iter) or scale the data as shown in:\n",
      "    https://scikit-learn.org/stable/modules/preprocessing.html\n",
      "Please also refer to the documentation for alternative solver options:\n",
      "    https://scikit-learn.org/stable/modules/linear_model.html#logistic-regression\n",
      "  n_iter_i = _check_optimize_result(\n",
      "C:\\Users\\share\\AppData\\Roaming\\Python\\Python38\\site-packages\\sklearn\\linear_model\\_logistic.py:763: ConvergenceWarning: lbfgs failed to converge (status=1):\n",
      "STOP: TOTAL NO. of ITERATIONS REACHED LIMIT.\n",
      "\n",
      "Increase the number of iterations (max_iter) or scale the data as shown in:\n",
      "    https://scikit-learn.org/stable/modules/preprocessing.html\n",
      "Please also refer to the documentation for alternative solver options:\n",
      "    https://scikit-learn.org/stable/modules/linear_model.html#logistic-regression\n",
      "  n_iter_i = _check_optimize_result(\n",
      "C:\\Users\\share\\AppData\\Roaming\\Python\\Python38\\site-packages\\sklearn\\linear_model\\_logistic.py:763: ConvergenceWarning: lbfgs failed to converge (status=1):\n",
      "STOP: TOTAL NO. of ITERATIONS REACHED LIMIT.\n",
      "\n",
      "Increase the number of iterations (max_iter) or scale the data as shown in:\n",
      "    https://scikit-learn.org/stable/modules/preprocessing.html\n",
      "Please also refer to the documentation for alternative solver options:\n",
      "    https://scikit-learn.org/stable/modules/linear_model.html#logistic-regression\n",
      "  n_iter_i = _check_optimize_result(\n",
      "C:\\Users\\share\\AppData\\Roaming\\Python\\Python38\\site-packages\\sklearn\\linear_model\\_logistic.py:763: ConvergenceWarning: lbfgs failed to converge (status=1):\n",
      "STOP: TOTAL NO. of ITERATIONS REACHED LIMIT.\n",
      "\n",
      "Increase the number of iterations (max_iter) or scale the data as shown in:\n",
      "    https://scikit-learn.org/stable/modules/preprocessing.html\n",
      "Please also refer to the documentation for alternative solver options:\n",
      "    https://scikit-learn.org/stable/modules/linear_model.html#logistic-regression\n",
      "  n_iter_i = _check_optimize_result(\n",
      "C:\\Users\\share\\AppData\\Roaming\\Python\\Python38\\site-packages\\sklearn\\utils\\validation.py:70: FutureWarning: Pass labels=[0, 1] as keyword args. From version 1.0 (renaming of 0.25) passing these as positional arguments will result in an error\n",
      "  warnings.warn(f\"Pass {args_msg} as keyword args. From version \"\n"
     ]
    },
    {
     "name": "stdout",
     "output_type": "stream",
     "text": [
      "training score:0.9371699658317567\n",
      "testing score:0.9365258640162638\n",
      "  param_clf__C  mean_test_score  std_test_score  rank_test_score  \\\n",
      "0          0.1         0.907802        0.002205                3   \n",
      "1            1         0.925705        0.003606                2   \n",
      "2           10         0.936887        0.003313                1   \n",
      "\n",
      "   mean_fit_time  mean_score_time  \n",
      "0       0.225957         0.009454  \n",
      "1       0.476158         0.008860  \n",
      "2       0.501153         0.012459  \n",
      "              precision    recall  f1-score   support\n",
      "\n",
      "        real       0.92      0.96      0.94      4296\n",
      "        fake       0.96      0.92      0.94      4558\n",
      "\n",
      "    accuracy                           0.94      8854\n",
      "   macro avg       0.94      0.94      0.94      8854\n",
      "weighted avg       0.94      0.94      0.94      8854\n",
      "\n",
      "[[4111  185]\n",
      " [ 377 4181]]\n"
     ]
    },
    {
     "data": {
      "image/png": "[encoded data removed]",
      "text/plain": [
       "<Figure size 432x288 with 2 Axes>"
      ]
     },
     "metadata": {
      "needs_background": "light"
     },
     "output_type": "display_data"
    }
   ],
   "source": [
    "linguistic_logistic_model = Pipeline([\n",
    "    ('scaler', MinMaxScaler()),\n",
    "    ('clf', LogisticRegression())\n",
    "])\n",
    "\n",
    "logistic_params = {\n",
    "    'clf__C':[0.1,1,10]\n",
    "             \n",
    "}\n",
    "\n",
    "logistic_linguistic_grid = GridSearchCV(linguistic_logistic_model, logistic_params)\n",
    "getScore(logistic_linguistic_grid,train_x, test_x, train_y, test_y)\n",
    "best_params = logistic_linguistic_grid.best_params_\n",
    "logistic_linguistic_grid_result = pd.DataFrame(logistic_linguistic_grid.cv_results_)[['param_clf__C','mean_test_score','std_test_score',\n",
    "                                               'rank_test_score','mean_fit_time','mean_score_time']]\n",
    "print(logistic_linguistic_grid_result)\n",
    "getClassificationReport(logistic_linguistic_grid,test_x,test_y)"
   ]
  },
  {
   "cell_type": "code",
   "execution_count": 70,
   "metadata": {},
   "outputs": [
    {
     "name": "stdout",
     "output_type": "stream",
     "text": [
      "training score:0.9996893796063593\n",
      "testing score:0.9508696634289586\n",
      "  param_clf__criterion param_clf__max_depth  mean_test_score  std_test_score  \\\n",
      "0                 gini                   10         0.939740        0.003592   \n",
      "1                 gini                   20         0.941321        0.001584   \n",
      "2                 gini                   30         0.940643        0.002659   \n",
      "3              entropy                   10         0.939965        0.003106   \n",
      "4              entropy                   20         0.942761        0.002591   \n",
      "5              entropy                   30         0.941321        0.001721   \n",
      "\n",
      "   rank_test_score  mean_fit_time  mean_score_time  \n",
      "0                6       0.302843         0.011478  \n",
      "1                2       0.456021         0.002006  \n",
      "2                4       0.488855         0.006160  \n",
      "3                5       0.346448         0.006939  \n",
      "4                1       0.406535         0.005508  \n",
      "5                3       0.422271         0.005358  \n",
      "              precision    recall  f1-score   support\n",
      "\n",
      "        real       0.95      0.95      0.95      4296\n",
      "        fake       0.95      0.96      0.95      4558\n",
      "\n",
      "    accuracy                           0.95      8854\n",
      "   macro avg       0.95      0.95      0.95      8854\n",
      "weighted avg       0.95      0.95      0.95      8854\n",
      "\n",
      "[[4066  230]\n",
      " [ 205 4353]]\n"
     ]
    },
    {
     "name": "stderr",
     "output_type": "stream",
     "text": [
      "C:\\Users\\share\\AppData\\Roaming\\Python\\Python38\\site-packages\\sklearn\\utils\\validation.py:70: FutureWarning: Pass labels=[0, 1] as keyword args. From version 1.0 (renaming of 0.25) passing these as positional arguments will result in an error\n",
      "  warnings.warn(f\"Pass {args_msg} as keyword args. From version \"\n"
     ]
    },
    {
     "data": {
      "image/png": "[encoded data removed]",
      "text/plain": [
       "<Figure size 432x288 with 2 Axes>"
      ]
     },
     "metadata": {
      "needs_background": "light"
     },
     "output_type": "display_data"
    }
   ],
   "source": [
    "linguistic_decision_model = Pipeline([\n",
    "    ('scaler', MinMaxScaler()),\n",
    "    ('clf', tree.DecisionTreeClassifier())\n",
    "])\n",
    "\n",
    "decision_params = {\n",
    "    'clf__criterion':['gini','entropy'],\n",
    "    'clf__max_depth':[10,20,30]\n",
    "}\n",
    "     \n",
    "\n",
    "decision_linguistic_grid = GridSearchCV(linguistic_decision_model, decision_params)\n",
    "getScore(decision_linguistic_grid,train_x, test_x, train_y, test_y)\n",
    "best_params = decision_linguistic_grid.best_params_\n",
    "decision_linguistic_grid_result = pd.DataFrame(decision_linguistic_grid.cv_results_)[['param_clf__criterion','param_clf__max_depth','mean_test_score','std_test_score',\n",
    "                                               'rank_test_score','mean_fit_time','mean_score_time']]\n",
    "print(decision_linguistic_grid_result)\n",
    "getClassificationReport(decision_linguistic_grid,test_x,test_y)"
   ]
  },
  {
   "cell_type": "code",
   "execution_count": 71,
   "metadata": {},
   "outputs": [
    {
     "name": "stdout",
     "output_type": "stream",
     "text": [
      "training score:1.0\n",
      "testing score:0.9675852721933589\n",
      "  param_clf__criterion param_clf__max_depth  mean_test_score  std_test_score  \\\n",
      "0                 gini                   10         0.957106        0.003690   \n",
      "1                 gini                   20         0.968853        0.002248   \n",
      "2                 gini                   30         0.969616        0.001901   \n",
      "3              entropy                   10         0.958603        0.004242   \n",
      "4              entropy                   20         0.969503        0.002704   \n",
      "5              entropy                   30         0.969418        0.002080   \n",
      "\n",
      "   rank_test_score  mean_fit_time  mean_score_time  \n",
      "0                6       4.227569         0.105206  \n",
      "1                4       5.842519         0.124944  \n",
      "2                1       5.567603         0.114143  \n",
      "3                5       4.410185         0.089231  \n",
      "4                2       5.489340         0.092961  \n",
      "5                3       5.851689         0.116440  \n",
      "              precision    recall  f1-score   support\n",
      "\n",
      "        real       0.97      0.97      0.97      4296\n",
      "        fake       0.97      0.97      0.97      4558\n",
      "\n",
      "    accuracy                           0.97      8854\n",
      "   macro avg       0.97      0.97      0.97      8854\n",
      "weighted avg       0.97      0.97      0.97      8854\n",
      "\n",
      "[[4150  146]\n",
      " [ 141 4417]]"
     ]
    },
    {
     "name": "stderr",
     "output_type": "stream",
     "text": [
      "C:\\Users\\share\\AppData\\Roaming\\Python\\Python38\\site-packages\\sklearn\\utils\\validation.py:70: FutureWarning: Pass labels=[0, 1] as keyword args. From version 1.0 (renaming of 0.25) passing these as positional arguments will result in an error\n",
      "  warnings.warn(f\"Pass {args_msg} as keyword args. From version \"\n"
     ]
    },
    {
     "name": "stdout",
     "output_type": "stream",
     "text": [
      "\n"
     ]
    },
    {
     "data": {
      "image/png": "[encoded data removed]",
      "text/plain": [
       "<Figure size 432x288 with 2 Axes>"
      ]
     },
     "metadata": {
      "needs_background": "light"
     },
     "output_type": "display_data"
    }
   ],
   "source": [
    "linguistic_random_model = Pipeline([\n",
    "    ('scaler', MinMaxScaler()),\n",
    "    ('clf', RandomForestClassifier())\n",
    "])\n",
    "\n",
    "random_params = {\n",
    "    'clf__criterion':['gini','entropy'],\n",
    "    'clf__max_depth':[10,20,30]\n",
    "             \n",
    "}\n",
    "random_linguistic_grid = GridSearchCV(linguistic_random_model, random_params)\n",
    "getScore(random_linguistic_grid,train_x, test_x, train_y, test_y)\n",
    "best_params = random_linguistic_grid.best_params_\n",
    "random_linguistic_grid_result = pd.DataFrame(random_linguistic_grid.cv_results_)[['param_clf__criterion','param_clf__max_depth','mean_test_score','std_test_score',\n",
    "                                               'rank_test_score','mean_fit_time','mean_score_time']]\n",
    "print(random_linguistic_grid_result)\n",
    "getClassificationReport(random_linguistic_grid,test_x,test_y)"
   ]
  },
  {
   "cell_type": "code",
   "execution_count": 73,
   "metadata": {},
   "outputs": [
    {
     "name": "stderr",
     "output_type": "stream",
     "text": [
      "<ipython-input-45-21c257195a10>:5: FutureWarning: The default value of regex will change from True to False in a future version.\n",
      "  return col.apply(lambda x: nltk.word_tokenize(x)) \\\n"
     ]
    },
    {
     "name": "stdout",
     "output_type": "stream",
     "text": [
      "train x:(35413,)\n",
      "test x:(8854,)\n",
      "train y:(35413,)\n",
      "test y:(8854,)\n",
      "training score:0.9518820772032869\n",
      "testing score:0.9393494465778179\n",
      "training score:0.9974020839804592\n",
      "testing score:0.9532414727806641\n"
     ]
    }
   ],
   "source": [
    "df_all_news['cleanupTitle'] = preprocessing(df_all_news['title'])\n",
    "\n",
    "train_x, test_x, train_y, test_y  = train_test_split(df_all_news['cleanupTitle'],df_all_news['isFake'], test_size=0.2, random_state = 1)\n",
    "print('train x:' +str(train_x.shape))\n",
    "print('test x:' + str(test_x.shape))\n",
    "print('train y:' + str(train_y.shape))\n",
    "print('test y:'+ str(test_y.shape))\n",
    "\n",
    "model = Pipeline([\n",
    "    ('vect', TfidfVectorizer()),\n",
    "    ('clf', naive_bayes.MultinomialNB())\n",
    "])\n",
    "getScore(model,train_x, test_x, train_y, test_y)\n",
    "\n",
    "parameters = {\n",
    "    'vect__ngram_range':[(1,1),(1,2),(1,3)],\n",
    "    'vect__use_idf':[True,False],\n",
    "    'clf__alpha':[0.5,0.7,1]\n",
    "             }\n",
    "title_grid = GridSearchCV(model, parameters)\n",
    "getScore(title_grid,train_x, test_x, train_y, test_y)\n"
   ]
  },
  {
   "cell_type": "code",
   "execution_count": 74,
   "metadata": {},
   "outputs": [
    {
     "name": "stdout",
     "output_type": "stream",
     "text": [
      "   param_vect__ngram_range param_vect__use_idf param_clf__alpha  \\\n",
      "0                   (1, 1)                True              0.5   \n",
      "1                   (1, 1)               False              0.5   \n",
      "2                   (1, 2)                True              0.5   \n",
      "3                   (1, 2)               False              0.5   \n",
      "4                   (1, 3)                True              0.5   \n",
      "5                   (1, 3)               False              0.5   \n",
      "6                   (1, 1)                True              0.7   \n",
      "7                   (1, 1)               False              0.7   \n",
      "8                   (1, 2)                True              0.7   \n",
      "9                   (1, 2)               False              0.7   \n",
      "10                  (1, 3)                True              0.7   \n",
      "11                  (1, 3)               False              0.7   \n",
      "12                  (1, 1)                True                1   \n",
      "13                  (1, 1)               False                1   \n",
      "14                  (1, 2)                True                1   \n",
      "15                  (1, 2)               False                1   \n",
      "16                  (1, 3)                True                1   \n",
      "17                  (1, 3)               False                1   \n",
      "\n",
      "    mean_test_score  std_test_score  rank_test_score  mean_fit_time  \\\n",
      "0          0.934205        0.002647               15       0.426902   \n",
      "1          0.936266        0.002819               13       0.419730   \n",
      "2          0.944625        0.002695                2       1.243604   \n",
      "3          0.942055        0.003314                5       1.277643   \n",
      "4          0.944738        0.002960                1       2.179751   \n",
      "5          0.941999        0.003364                6       2.036943   \n",
      "6          0.933753        0.002697               16       0.419279   \n",
      "7          0.934939        0.002883               14       0.386175   \n",
      "8          0.942818        0.003494                4       1.293435   \n",
      "9          0.940643        0.003516                9       1.254134   \n",
      "10         0.943326        0.003198                3       2.045523   \n",
      "11         0.940446        0.003489               10       2.029617   \n",
      "12         0.933669        0.003029               17       0.403099   \n",
      "13         0.933527        0.002515               18       0.386441   \n",
      "14         0.941265        0.003457                8       1.192225   \n",
      "15         0.938328        0.003140               11       1.207767   \n",
      "16         0.941434        0.003463                7       2.184846   \n",
      "17         0.937707        0.003811               12       2.077405   \n",
      "\n",
      "    mean_score_time  \n",
      "0          0.118207  \n",
      "1          0.092246  \n",
      "2          0.171874  \n",
      "3          0.171864  \n",
      "4          0.263325  \n",
      "5          0.233691  \n",
      "6          0.093138  \n",
      "7          0.079647  \n",
      "8          0.161531  \n",
      "9          0.177477  \n",
      "10         0.227157  \n",
      "11         0.223392  \n",
      "12         0.098506  \n",
      "13         0.084027  \n",
      "14         0.168181  \n",
      "15         0.165671  \n",
      "16         0.269680  \n",
      "17         0.239133  \n",
      "              precision    recall  f1-score   support\n",
      "\n",
      "        real       0.97      0.93      0.95      4296\n",
      "        fake       0.94      0.97      0.96      4558\n",
      "\n",
      "    accuracy                           0.95      8854\n",
      "   macro avg       0.95      0.95      0.95      8854\n",
      "weighted avg       0.95      0.95      0.95      8854\n",
      "\n",
      "[[4002  294]\n",
      " [ 120 4438]]\n"
     ]
    },
    {
     "name": "stderr",
     "output_type": "stream",
     "text": [
      "C:\\Users\\share\\AppData\\Roaming\\Python\\Python38\\site-packages\\sklearn\\utils\\validation.py:70: FutureWarning: Pass labels=[0, 1] as keyword args. From version 1.0 (renaming of 0.25) passing these as positional arguments will result in an error\n",
      "  warnings.warn(f\"Pass {args_msg} as keyword args. From version \"\n"
     ]
    },
    {
     "data": {
      "image/png": "[encoded data removed]",
      "text/plain": [
       "<Figure size 432x288 with 2 Axes>"
      ]
     },
     "metadata": {
      "needs_background": "light"
     },
     "output_type": "display_data"
    }
   ],
   "source": [
    "best_params = title_grid.best_params_\n",
    "title_grid_result = pd.DataFrame(title_grid.cv_results_)[['param_vect__ngram_range','param_vect__use_idf','param_clf__alpha','mean_test_score','std_test_score',\n",
    "                                               'rank_test_score','mean_fit_time','mean_score_time']]\n",
    "print(title_grid_result)\n",
    "getClassificationReport(title_grid,test_x,test_y)"
   ]
  }
 ],
 "metadata": {
  "kernelspec": {
   "display_name": "Python 3",
   "language": "python",
   "name": "python3"
  },
  "language_info": {
   "codemirror_mode": {
    "name": "ipython",
    "version": 3
   },
   "file_extension": ".py",
   "mimetype": "text/x-python",
   "name": "python",
   "nbconvert_exporter": "python",
   "pygments_lexer": "ipython3",
   "version": "3.8.2"
  }
 },
 "nbformat": 4,
 "nbformat_minor": 4
}
